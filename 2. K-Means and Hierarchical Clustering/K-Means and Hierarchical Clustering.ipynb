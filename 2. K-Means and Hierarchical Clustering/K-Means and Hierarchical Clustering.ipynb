{
  "nbformat": 4,
  "nbformat_minor": 0,
  "metadata": {
    "colab": {
      "provenance": []
    },
    "kernelspec": {
      "name": "python3",
      "display_name": "Python 3"
    },
    "language_info": {
      "name": "python"
    }
  },
  "cells": [
    {
      "cell_type": "code",
      "execution_count": null,
      "metadata": {
        "id": "y891WAgjT7KQ"
      },
      "outputs": [],
      "source": [
        "import pandas as pd\n",
        "import numpy as np\n",
        "import seaborn as sns\n",
        "import matplotlib.pyplot as plt\n",
        "sns.set_theme(style=\"whitegrid\", color_codes=True)\n",
        "sns.set(rc={'figure.figsize':(16,12)})"
      ]
    },
    {
      "cell_type": "code",
      "source": [
        "from google.colab import drive"
      ],
      "metadata": {
        "id": "VbzPcmwhUAad"
      },
      "execution_count": null,
      "outputs": []
    },
    {
      "cell_type": "code",
      "source": [
        "drive.mount('/content/drive')"
      ],
      "metadata": {
        "colab": {
          "base_uri": "https://localhost:8080/"
        },
        "id": "rRQwyPozUCU6",
        "outputId": "a9432b5a-7c7a-499f-ce12-5d56868ea9df"
      },
      "execution_count": null,
      "outputs": [
        {
          "output_type": "stream",
          "name": "stdout",
          "text": [
            "Mounted at /content/drive\n"
          ]
        }
      ]
    },
    {
      "cell_type": "code",
      "source": [
        "data = pd.read_csv(\"/content/drive/MyDrive/PrakMining/google_analytic_1_week.csv\")"
      ],
      "metadata": {
        "id": "OaHrGVLoUEp3"
      },
      "execution_count": null,
      "outputs": []
    },
    {
      "cell_type": "code",
      "source": [
        "data"
      ],
      "metadata": {
        "colab": {
          "base_uri": "https://localhost:8080/",
          "height": 852
        },
        "id": "Cj9duJB3UpSC",
        "outputId": "9806d415-b02f-4389-9d20-bb328073d558"
      },
      "execution_count": null,
      "outputs": [
        {
          "output_type": "execute_result",
          "data": {
            "text/plain": [
              "       Unnamed: 0  visitNumber     visitId  visitStartTime      date  \\\n",
              "0               0            1  1485675881      1485675881  20170128   \n",
              "1               1            1  1485602993      1485602993  20170128   \n",
              "2               2            1  1485628695      1485628695  20170128   \n",
              "3               3            1  1485597945      1485597945  20170128   \n",
              "4               4            1  1485644479      1485644479  20170128   \n",
              "...           ...          ...         ...             ...       ...   \n",
              "12391       12391            1  1485402021      1485402021  20170125   \n",
              "12392       12392            1  1485363593      1485363593  20170125   \n",
              "12393       12393            1  1485339942      1485339942  20170125   \n",
              "12394       12394            1  1485345894      1485345894  20170125   \n",
              "12395       12395            1  1485397923      1485397923  20170125   \n",
              "\n",
              "                                 customDimensions  \\\n",
              "0                                              []   \n",
              "1               [{'index': '4', 'value': 'EMEA'}]   \n",
              "2                                              []   \n",
              "3               [{'index': '4', 'value': 'EMEA'}]   \n",
              "4               [{'index': '4', 'value': 'EMEA'}]   \n",
              "...                                           ...   \n",
              "12391  [{'index': '4', 'value': 'North America'}]   \n",
              "12392           [{'index': '4', 'value': 'APAC'}]   \n",
              "12393  [{'index': '4', 'value': 'North America'}]   \n",
              "12394                                          []   \n",
              "12395  [{'index': '4', 'value': 'North America'}]   \n",
              "\n",
              "                                                    hits  fullVisitorId  \\\n",
              "0      [{'hitNumber': '1', 'time': '0', 'hour': '23',...   9.110055e+18   \n",
              "1      [{'hitNumber': '1', 'time': '0', 'hour': '3', ...   3.810132e+18   \n",
              "2      [{'hitNumber': '1', 'time': '0', 'hour': '10',...   4.400063e+18   \n",
              "3      [{'hitNumber': '1', 'time': '0', 'hour': '2', ...   8.739403e+17   \n",
              "4      [{'hitNumber': '1', 'time': '0', 'hour': '15',...   6.583696e+18   \n",
              "...                                                  ...            ...   \n",
              "12391  [{'hitNumber': '1', 'time': '0', 'hour': '19',...   2.974605e+18   \n",
              "12392  [{'hitNumber': '1', 'time': '0', 'hour': '8', ...   7.388247e+18   \n",
              "12393  [{'hitNumber': '1', 'time': '0', 'hour': '2', ...   6.555321e+18   \n",
              "12394  [{'hitNumber': '1', 'time': '0', 'hour': '4', ...   9.957470e+18   \n",
              "12395  [{'hitNumber': '1', 'time': '0', 'hour': '18',...   7.624054e+18   \n",
              "\n",
              "      channelGrouping  socialEngagementType  ...  \\\n",
              "0      Organic Search  Not Socially Engaged  ...   \n",
              "1      Organic Search  Not Socially Engaged  ...   \n",
              "2      Organic Search  Not Socially Engaged  ...   \n",
              "3      Organic Search  Not Socially Engaged  ...   \n",
              "4      Organic Search  Not Socially Engaged  ...   \n",
              "...               ...                   ...  ...   \n",
              "12391          Social  Not Socially Engaged  ...   \n",
              "12392          Social  Not Socially Engaged  ...   \n",
              "12393          Social  Not Socially Engaged  ...   \n",
              "12394          Social  Not Socially Engaged  ...   \n",
              "12395          Social  Not Socially Engaged  ...   \n",
              "\n",
              "       trafficSource.adwordsClickInfo.gclId  \\\n",
              "0                                       NaN   \n",
              "1                                       NaN   \n",
              "2                                       NaN   \n",
              "3                                       NaN   \n",
              "4                                       NaN   \n",
              "...                                     ...   \n",
              "12391                                   NaN   \n",
              "12392                                   NaN   \n",
              "12393                                   NaN   \n",
              "12394                                   NaN   \n",
              "12395                                   NaN   \n",
              "\n",
              "       trafficSource.adwordsClickInfo.adNetworkType  \\\n",
              "0                                               NaN   \n",
              "1                                               NaN   \n",
              "2                                               NaN   \n",
              "3                                               NaN   \n",
              "4                                               NaN   \n",
              "...                                             ...   \n",
              "12391                                           NaN   \n",
              "12392                                           NaN   \n",
              "12393                                           NaN   \n",
              "12394                                           NaN   \n",
              "12395                                           NaN   \n",
              "\n",
              "       trafficSource.adwordsClickInfo.isVideoAd  trafficSource.referralPath  \\\n",
              "0                                           NaN                         NaN   \n",
              "1                                           NaN                         NaN   \n",
              "2                                           NaN                         NaN   \n",
              "3                                           NaN                         NaN   \n",
              "4                                           NaN                         NaN   \n",
              "...                                         ...                         ...   \n",
              "12391                                       NaN                  /yt/about/   \n",
              "12392                                       NaN                  /yt/about/   \n",
              "12393                                       NaN                  /yt/about/   \n",
              "12394                                       NaN                  /yt/about/   \n",
              "12395                                       NaN                  /yt/about/   \n",
              "\n",
              "      trafficSource.adContent totals.timeOnSite trafficSource.keyword  \\\n",
              "0                         NaN               NaN                   NaN   \n",
              "1                         NaN               NaN                   NaN   \n",
              "2                         NaN               NaN                   NaN   \n",
              "3                         NaN               NaN                   NaN   \n",
              "4                         NaN               NaN                   NaN   \n",
              "...                       ...               ...                   ...   \n",
              "12391                     NaN             565.0                   NaN   \n",
              "12392                     NaN             231.0                   NaN   \n",
              "12393                     NaN            2574.0                   NaN   \n",
              "12394                     NaN             881.0                   NaN   \n",
              "12395                     NaN             971.0                   NaN   \n",
              "\n",
              "      totals.transactions totals.transactionRevenue  \\\n",
              "0                     NaN                       NaN   \n",
              "1                     NaN                       NaN   \n",
              "2                     NaN                       NaN   \n",
              "3                     NaN                       NaN   \n",
              "4                     NaN                       NaN   \n",
              "...                   ...                       ...   \n",
              "12391                 NaN                       NaN   \n",
              "12392                 NaN                       NaN   \n",
              "12393                 NaN                       NaN   \n",
              "12394                 NaN                       NaN   \n",
              "12395                 NaN                       NaN   \n",
              "\n",
              "      totals.totalTransactionRevenue  \n",
              "0                                NaN  \n",
              "1                                NaN  \n",
              "2                                NaN  \n",
              "3                                NaN  \n",
              "4                                NaN  \n",
              "...                              ...  \n",
              "12391                            NaN  \n",
              "12392                            NaN  \n",
              "12393                            NaN  \n",
              "12394                            NaN  \n",
              "12395                            NaN  \n",
              "\n",
              "[12396 rows x 59 columns]"
            ],
            "text/html": [
              "\n",
              "  <div id=\"df-915ba9c8-318c-4fe0-b688-1cc2c6f7e988\">\n",
              "    <div class=\"colab-df-container\">\n",
              "      <div>\n",
              "<style scoped>\n",
              "    .dataframe tbody tr th:only-of-type {\n",
              "        vertical-align: middle;\n",
              "    }\n",
              "\n",
              "    .dataframe tbody tr th {\n",
              "        vertical-align: top;\n",
              "    }\n",
              "\n",
              "    .dataframe thead th {\n",
              "        text-align: right;\n",
              "    }\n",
              "</style>\n",
              "<table border=\"1\" class=\"dataframe\">\n",
              "  <thead>\n",
              "    <tr style=\"text-align: right;\">\n",
              "      <th></th>\n",
              "      <th>Unnamed: 0</th>\n",
              "      <th>visitNumber</th>\n",
              "      <th>visitId</th>\n",
              "      <th>visitStartTime</th>\n",
              "      <th>date</th>\n",
              "      <th>customDimensions</th>\n",
              "      <th>hits</th>\n",
              "      <th>fullVisitorId</th>\n",
              "      <th>channelGrouping</th>\n",
              "      <th>socialEngagementType</th>\n",
              "      <th>...</th>\n",
              "      <th>trafficSource.adwordsClickInfo.gclId</th>\n",
              "      <th>trafficSource.adwordsClickInfo.adNetworkType</th>\n",
              "      <th>trafficSource.adwordsClickInfo.isVideoAd</th>\n",
              "      <th>trafficSource.referralPath</th>\n",
              "      <th>trafficSource.adContent</th>\n",
              "      <th>totals.timeOnSite</th>\n",
              "      <th>trafficSource.keyword</th>\n",
              "      <th>totals.transactions</th>\n",
              "      <th>totals.transactionRevenue</th>\n",
              "      <th>totals.totalTransactionRevenue</th>\n",
              "    </tr>\n",
              "  </thead>\n",
              "  <tbody>\n",
              "    <tr>\n",
              "      <th>0</th>\n",
              "      <td>0</td>\n",
              "      <td>1</td>\n",
              "      <td>1485675881</td>\n",
              "      <td>1485675881</td>\n",
              "      <td>20170128</td>\n",
              "      <td>[]</td>\n",
              "      <td>[{'hitNumber': '1', 'time': '0', 'hour': '23',...</td>\n",
              "      <td>9.110055e+18</td>\n",
              "      <td>Organic Search</td>\n",
              "      <td>Not Socially Engaged</td>\n",
              "      <td>...</td>\n",
              "      <td>NaN</td>\n",
              "      <td>NaN</td>\n",
              "      <td>NaN</td>\n",
              "      <td>NaN</td>\n",
              "      <td>NaN</td>\n",
              "      <td>NaN</td>\n",
              "      <td>NaN</td>\n",
              "      <td>NaN</td>\n",
              "      <td>NaN</td>\n",
              "      <td>NaN</td>\n",
              "    </tr>\n",
              "    <tr>\n",
              "      <th>1</th>\n",
              "      <td>1</td>\n",
              "      <td>1</td>\n",
              "      <td>1485602993</td>\n",
              "      <td>1485602993</td>\n",
              "      <td>20170128</td>\n",
              "      <td>[{'index': '4', 'value': 'EMEA'}]</td>\n",
              "      <td>[{'hitNumber': '1', 'time': '0', 'hour': '3', ...</td>\n",
              "      <td>3.810132e+18</td>\n",
              "      <td>Organic Search</td>\n",
              "      <td>Not Socially Engaged</td>\n",
              "      <td>...</td>\n",
              "      <td>NaN</td>\n",
              "      <td>NaN</td>\n",
              "      <td>NaN</td>\n",
              "      <td>NaN</td>\n",
              "      <td>NaN</td>\n",
              "      <td>NaN</td>\n",
              "      <td>NaN</td>\n",
              "      <td>NaN</td>\n",
              "      <td>NaN</td>\n",
              "      <td>NaN</td>\n",
              "    </tr>\n",
              "    <tr>\n",
              "      <th>2</th>\n",
              "      <td>2</td>\n",
              "      <td>1</td>\n",
              "      <td>1485628695</td>\n",
              "      <td>1485628695</td>\n",
              "      <td>20170128</td>\n",
              "      <td>[]</td>\n",
              "      <td>[{'hitNumber': '1', 'time': '0', 'hour': '10',...</td>\n",
              "      <td>4.400063e+18</td>\n",
              "      <td>Organic Search</td>\n",
              "      <td>Not Socially Engaged</td>\n",
              "      <td>...</td>\n",
              "      <td>NaN</td>\n",
              "      <td>NaN</td>\n",
              "      <td>NaN</td>\n",
              "      <td>NaN</td>\n",
              "      <td>NaN</td>\n",
              "      <td>NaN</td>\n",
              "      <td>NaN</td>\n",
              "      <td>NaN</td>\n",
              "      <td>NaN</td>\n",
              "      <td>NaN</td>\n",
              "    </tr>\n",
              "    <tr>\n",
              "      <th>3</th>\n",
              "      <td>3</td>\n",
              "      <td>1</td>\n",
              "      <td>1485597945</td>\n",
              "      <td>1485597945</td>\n",
              "      <td>20170128</td>\n",
              "      <td>[{'index': '4', 'value': 'EMEA'}]</td>\n",
              "      <td>[{'hitNumber': '1', 'time': '0', 'hour': '2', ...</td>\n",
              "      <td>8.739403e+17</td>\n",
              "      <td>Organic Search</td>\n",
              "      <td>Not Socially Engaged</td>\n",
              "      <td>...</td>\n",
              "      <td>NaN</td>\n",
              "      <td>NaN</td>\n",
              "      <td>NaN</td>\n",
              "      <td>NaN</td>\n",
              "      <td>NaN</td>\n",
              "      <td>NaN</td>\n",
              "      <td>NaN</td>\n",
              "      <td>NaN</td>\n",
              "      <td>NaN</td>\n",
              "      <td>NaN</td>\n",
              "    </tr>\n",
              "    <tr>\n",
              "      <th>4</th>\n",
              "      <td>4</td>\n",
              "      <td>1</td>\n",
              "      <td>1485644479</td>\n",
              "      <td>1485644479</td>\n",
              "      <td>20170128</td>\n",
              "      <td>[{'index': '4', 'value': 'EMEA'}]</td>\n",
              "      <td>[{'hitNumber': '1', 'time': '0', 'hour': '15',...</td>\n",
              "      <td>6.583696e+18</td>\n",
              "      <td>Organic Search</td>\n",
              "      <td>Not Socially Engaged</td>\n",
              "      <td>...</td>\n",
              "      <td>NaN</td>\n",
              "      <td>NaN</td>\n",
              "      <td>NaN</td>\n",
              "      <td>NaN</td>\n",
              "      <td>NaN</td>\n",
              "      <td>NaN</td>\n",
              "      <td>NaN</td>\n",
              "      <td>NaN</td>\n",
              "      <td>NaN</td>\n",
              "      <td>NaN</td>\n",
              "    </tr>\n",
              "    <tr>\n",
              "      <th>...</th>\n",
              "      <td>...</td>\n",
              "      <td>...</td>\n",
              "      <td>...</td>\n",
              "      <td>...</td>\n",
              "      <td>...</td>\n",
              "      <td>...</td>\n",
              "      <td>...</td>\n",
              "      <td>...</td>\n",
              "      <td>...</td>\n",
              "      <td>...</td>\n",
              "      <td>...</td>\n",
              "      <td>...</td>\n",
              "      <td>...</td>\n",
              "      <td>...</td>\n",
              "      <td>...</td>\n",
              "      <td>...</td>\n",
              "      <td>...</td>\n",
              "      <td>...</td>\n",
              "      <td>...</td>\n",
              "      <td>...</td>\n",
              "      <td>...</td>\n",
              "    </tr>\n",
              "    <tr>\n",
              "      <th>12391</th>\n",
              "      <td>12391</td>\n",
              "      <td>1</td>\n",
              "      <td>1485402021</td>\n",
              "      <td>1485402021</td>\n",
              "      <td>20170125</td>\n",
              "      <td>[{'index': '4', 'value': 'North America'}]</td>\n",
              "      <td>[{'hitNumber': '1', 'time': '0', 'hour': '19',...</td>\n",
              "      <td>2.974605e+18</td>\n",
              "      <td>Social</td>\n",
              "      <td>Not Socially Engaged</td>\n",
              "      <td>...</td>\n",
              "      <td>NaN</td>\n",
              "      <td>NaN</td>\n",
              "      <td>NaN</td>\n",
              "      <td>/yt/about/</td>\n",
              "      <td>NaN</td>\n",
              "      <td>565.0</td>\n",
              "      <td>NaN</td>\n",
              "      <td>NaN</td>\n",
              "      <td>NaN</td>\n",
              "      <td>NaN</td>\n",
              "    </tr>\n",
              "    <tr>\n",
              "      <th>12392</th>\n",
              "      <td>12392</td>\n",
              "      <td>1</td>\n",
              "      <td>1485363593</td>\n",
              "      <td>1485363593</td>\n",
              "      <td>20170125</td>\n",
              "      <td>[{'index': '4', 'value': 'APAC'}]</td>\n",
              "      <td>[{'hitNumber': '1', 'time': '0', 'hour': '8', ...</td>\n",
              "      <td>7.388247e+18</td>\n",
              "      <td>Social</td>\n",
              "      <td>Not Socially Engaged</td>\n",
              "      <td>...</td>\n",
              "      <td>NaN</td>\n",
              "      <td>NaN</td>\n",
              "      <td>NaN</td>\n",
              "      <td>/yt/about/</td>\n",
              "      <td>NaN</td>\n",
              "      <td>231.0</td>\n",
              "      <td>NaN</td>\n",
              "      <td>NaN</td>\n",
              "      <td>NaN</td>\n",
              "      <td>NaN</td>\n",
              "    </tr>\n",
              "    <tr>\n",
              "      <th>12393</th>\n",
              "      <td>12393</td>\n",
              "      <td>1</td>\n",
              "      <td>1485339942</td>\n",
              "      <td>1485339942</td>\n",
              "      <td>20170125</td>\n",
              "      <td>[{'index': '4', 'value': 'North America'}]</td>\n",
              "      <td>[{'hitNumber': '1', 'time': '0', 'hour': '2', ...</td>\n",
              "      <td>6.555321e+18</td>\n",
              "      <td>Social</td>\n",
              "      <td>Not Socially Engaged</td>\n",
              "      <td>...</td>\n",
              "      <td>NaN</td>\n",
              "      <td>NaN</td>\n",
              "      <td>NaN</td>\n",
              "      <td>/yt/about/</td>\n",
              "      <td>NaN</td>\n",
              "      <td>2574.0</td>\n",
              "      <td>NaN</td>\n",
              "      <td>NaN</td>\n",
              "      <td>NaN</td>\n",
              "      <td>NaN</td>\n",
              "    </tr>\n",
              "    <tr>\n",
              "      <th>12394</th>\n",
              "      <td>12394</td>\n",
              "      <td>1</td>\n",
              "      <td>1485345894</td>\n",
              "      <td>1485345894</td>\n",
              "      <td>20170125</td>\n",
              "      <td>[]</td>\n",
              "      <td>[{'hitNumber': '1', 'time': '0', 'hour': '4', ...</td>\n",
              "      <td>9.957470e+18</td>\n",
              "      <td>Social</td>\n",
              "      <td>Not Socially Engaged</td>\n",
              "      <td>...</td>\n",
              "      <td>NaN</td>\n",
              "      <td>NaN</td>\n",
              "      <td>NaN</td>\n",
              "      <td>/yt/about/</td>\n",
              "      <td>NaN</td>\n",
              "      <td>881.0</td>\n",
              "      <td>NaN</td>\n",
              "      <td>NaN</td>\n",
              "      <td>NaN</td>\n",
              "      <td>NaN</td>\n",
              "    </tr>\n",
              "    <tr>\n",
              "      <th>12395</th>\n",
              "      <td>12395</td>\n",
              "      <td>1</td>\n",
              "      <td>1485397923</td>\n",
              "      <td>1485397923</td>\n",
              "      <td>20170125</td>\n",
              "      <td>[{'index': '4', 'value': 'North America'}]</td>\n",
              "      <td>[{'hitNumber': '1', 'time': '0', 'hour': '18',...</td>\n",
              "      <td>7.624054e+18</td>\n",
              "      <td>Social</td>\n",
              "      <td>Not Socially Engaged</td>\n",
              "      <td>...</td>\n",
              "      <td>NaN</td>\n",
              "      <td>NaN</td>\n",
              "      <td>NaN</td>\n",
              "      <td>/yt/about/</td>\n",
              "      <td>NaN</td>\n",
              "      <td>971.0</td>\n",
              "      <td>NaN</td>\n",
              "      <td>NaN</td>\n",
              "      <td>NaN</td>\n",
              "      <td>NaN</td>\n",
              "    </tr>\n",
              "  </tbody>\n",
              "</table>\n",
              "<p>12396 rows × 59 columns</p>\n",
              "</div>\n",
              "      <button class=\"colab-df-convert\" onclick=\"convertToInteractive('df-915ba9c8-318c-4fe0-b688-1cc2c6f7e988')\"\n",
              "              title=\"Convert this dataframe to an interactive table.\"\n",
              "              style=\"display:none;\">\n",
              "        \n",
              "  <svg xmlns=\"http://www.w3.org/2000/svg\" height=\"24px\"viewBox=\"0 0 24 24\"\n",
              "       width=\"24px\">\n",
              "    <path d=\"M0 0h24v24H0V0z\" fill=\"none\"/>\n",
              "    <path d=\"M18.56 5.44l.94 2.06.94-2.06 2.06-.94-2.06-.94-.94-2.06-.94 2.06-2.06.94zm-11 1L8.5 8.5l.94-2.06 2.06-.94-2.06-.94L8.5 2.5l-.94 2.06-2.06.94zm10 10l.94 2.06.94-2.06 2.06-.94-2.06-.94-.94-2.06-.94 2.06-2.06.94z\"/><path d=\"M17.41 7.96l-1.37-1.37c-.4-.4-.92-.59-1.43-.59-.52 0-1.04.2-1.43.59L10.3 9.45l-7.72 7.72c-.78.78-.78 2.05 0 2.83L4 21.41c.39.39.9.59 1.41.59.51 0 1.02-.2 1.41-.59l7.78-7.78 2.81-2.81c.8-.78.8-2.07 0-2.86zM5.41 20L4 18.59l7.72-7.72 1.47 1.35L5.41 20z\"/>\n",
              "  </svg>\n",
              "      </button>\n",
              "      \n",
              "  <style>\n",
              "    .colab-df-container {\n",
              "      display:flex;\n",
              "      flex-wrap:wrap;\n",
              "      gap: 12px;\n",
              "    }\n",
              "\n",
              "    .colab-df-convert {\n",
              "      background-color: #E8F0FE;\n",
              "      border: none;\n",
              "      border-radius: 50%;\n",
              "      cursor: pointer;\n",
              "      display: none;\n",
              "      fill: #1967D2;\n",
              "      height: 32px;\n",
              "      padding: 0 0 0 0;\n",
              "      width: 32px;\n",
              "    }\n",
              "\n",
              "    .colab-df-convert:hover {\n",
              "      background-color: #E2EBFA;\n",
              "      box-shadow: 0px 1px 2px rgba(60, 64, 67, 0.3), 0px 1px 3px 1px rgba(60, 64, 67, 0.15);\n",
              "      fill: #174EA6;\n",
              "    }\n",
              "\n",
              "    [theme=dark] .colab-df-convert {\n",
              "      background-color: #3B4455;\n",
              "      fill: #D2E3FC;\n",
              "    }\n",
              "\n",
              "    [theme=dark] .colab-df-convert:hover {\n",
              "      background-color: #434B5C;\n",
              "      box-shadow: 0px 1px 3px 1px rgba(0, 0, 0, 0.15);\n",
              "      filter: drop-shadow(0px 1px 2px rgba(0, 0, 0, 0.3));\n",
              "      fill: #FFFFFF;\n",
              "    }\n",
              "  </style>\n",
              "\n",
              "      <script>\n",
              "        const buttonEl =\n",
              "          document.querySelector('#df-915ba9c8-318c-4fe0-b688-1cc2c6f7e988 button.colab-df-convert');\n",
              "        buttonEl.style.display =\n",
              "          google.colab.kernel.accessAllowed ? 'block' : 'none';\n",
              "\n",
              "        async function convertToInteractive(key) {\n",
              "          const element = document.querySelector('#df-915ba9c8-318c-4fe0-b688-1cc2c6f7e988');\n",
              "          const dataTable =\n",
              "            await google.colab.kernel.invokeFunction('convertToInteractive',\n",
              "                                                     [key], {});\n",
              "          if (!dataTable) return;\n",
              "\n",
              "          const docLinkHtml = 'Like what you see? Visit the ' +\n",
              "            '<a target=\"_blank\" href=https://colab.research.google.com/notebooks/data_table.ipynb>data table notebook</a>'\n",
              "            + ' to learn more about interactive tables.';\n",
              "          element.innerHTML = '';\n",
              "          dataTable['output_type'] = 'display_data';\n",
              "          await google.colab.output.renderOutput(dataTable, element);\n",
              "          const docLink = document.createElement('div');\n",
              "          docLink.innerHTML = docLinkHtml;\n",
              "          element.appendChild(docLink);\n",
              "        }\n",
              "      </script>\n",
              "    </div>\n",
              "  </div>\n",
              "  "
            ]
          },
          "metadata": {},
          "execution_count": 11
        }
      ]
    },
    {
      "cell_type": "markdown",
      "source": [
        "Check Missing Value"
      ],
      "metadata": {
        "id": "UfJ1jrEvUlDd"
      }
    },
    {
      "cell_type": "code",
      "source": [
        "import missingno as msno\n",
        "%matplotlib inline"
      ],
      "metadata": {
        "id": "IN7Xd7niUNJA"
      },
      "execution_count": null,
      "outputs": []
    },
    {
      "cell_type": "code",
      "source": [
        "# Gives positional information of the missing values\n",
        "msno.matrix(data[{'totals.totalTransactionRevenue','totals.pageviews','totals.visits'}])"
      ],
      "metadata": {
        "colab": {
          "base_uri": "https://localhost:8080/",
          "height": 357
        },
        "id": "9kZRrD3uUnI2",
        "outputId": "47bebfce-4ce2-45f6-c4ec-c83edb08eb6a"
      },
      "execution_count": null,
      "outputs": [
        {
          "output_type": "execute_result",
          "data": {
            "text/plain": [
              "<matplotlib.axes._subplots.AxesSubplot at 0x7f1707961c90>"
            ]
          },
          "metadata": {},
          "execution_count": 10
        },
        {
          "output_type": "display_data",
          "data": {
            "text/plain": [
              "<Figure size 1800x720 with 2 Axes>"
            ],
            "image/png": "[encoded data removed]"
          },
          "metadata": {
            "needs_background": "light"
          }
        }
      ]
    },
    {
      "cell_type": "code",
      "source": [
        "data['totals.totalTransactionRevenue'].sort_values()"
      ],
      "metadata": {
        "colab": {
          "base_uri": "https://localhost:8080/"
        },
        "id": "Nyd_ulOrVHRx",
        "outputId": "3b492958-1fd0-413c-8172-933daf048b5b"
      },
      "execution_count": null,
      "outputs": [
        {
          "output_type": "execute_result",
          "data": {
            "text/plain": [
              "11991    2990000.0\n",
              "1294     5590000.0\n",
              "5464     7970000.0\n",
              "8191     7980000.0\n",
              "8872     8990000.0\n",
              "           ...    \n",
              "12391          NaN\n",
              "12392          NaN\n",
              "12393          NaN\n",
              "12394          NaN\n",
              "12395          NaN\n",
              "Name: totals.totalTransactionRevenue, Length: 12396, dtype: float64"
            ]
          },
          "metadata": {},
          "execution_count": 12
        }
      ]
    },
    {
      "cell_type": "code",
      "source": [
        "data[data['totals.totalTransactionRevenue']==0]"
      ],
      "metadata": {
        "colab": {
          "base_uri": "https://localhost:8080/",
          "height": 160
        },
        "id": "gS96n2vEVM0N",
        "outputId": "5536304b-6714-45fb-853d-6b56a90203bb"
      },
      "execution_count": null,
      "outputs": [
        {
          "output_type": "execute_result",
          "data": {
            "text/plain": [
              "Empty DataFrame\n",
              "Columns: [Unnamed: 0, visitNumber, visitId, visitStartTime, date, customDimensions, hits, fullVisitorId, channelGrouping, socialEngagementType, totals.visits, totals.hits, totals.pageviews, totals.bounces, trafficSource.campaign, trafficSource.source, trafficSource.medium, trafficSource.adwordsClickInfo.criteriaParameters, trafficSource.isTrueDirect, device.browser, device.browserVersion, device.browserSize, device.operatingSystem, device.operatingSystemVersion, device.isMobile, device.mobileDeviceBranding, device.mobileDeviceModel, device.mobileInputSelector, device.mobileDeviceInfo, device.mobileDeviceMarketingName, device.flashVersion, device.language, device.screenColors, device.screenResolution, device.deviceCategory, geoNetwork.continent, geoNetwork.subContinent, geoNetwork.country, geoNetwork.region, geoNetwork.metro, geoNetwork.city, geoNetwork.cityId, geoNetwork.networkDomain, geoNetwork.latitude, geoNetwork.longitude, geoNetwork.networkLocation, totals.newVisits, trafficSource.adwordsClickInfo.page, trafficSource.adwordsClickInfo.slot, trafficSource.adwordsClickInfo.gclId, trafficSource.adwordsClickInfo.adNetworkType, trafficSource.adwordsClickInfo.isVideoAd, trafficSource.referralPath, trafficSource.adContent, totals.timeOnSite, trafficSource.keyword, totals.transactions, totals.transactionRevenue, totals.totalTransactionRevenue]\n",
              "Index: []\n",
              "\n",
              "[0 rows x 59 columns]"
            ],
            "text/html": [
              "\n",
              "  <div id=\"df-8d66976d-5c2b-4f83-b827-6d7e477e8c4e\">\n",
              "    <div class=\"colab-df-container\">\n",
              "      <div>\n",
              "<style scoped>\n",
              "    .dataframe tbody tr th:only-of-type {\n",
              "        vertical-align: middle;\n",
              "    }\n",
              "\n",
              "    .dataframe tbody tr th {\n",
              "        vertical-align: top;\n",
              "    }\n",
              "\n",
              "    .dataframe thead th {\n",
              "        text-align: right;\n",
              "    }\n",
              "</style>\n",
              "<table border=\"1\" class=\"dataframe\">\n",
              "  <thead>\n",
              "    <tr style=\"text-align: right;\">\n",
              "      <th></th>\n",
              "      <th>Unnamed: 0</th>\n",
              "      <th>visitNumber</th>\n",
              "      <th>visitId</th>\n",
              "      <th>visitStartTime</th>\n",
              "      <th>date</th>\n",
              "      <th>customDimensions</th>\n",
              "      <th>hits</th>\n",
              "      <th>fullVisitorId</th>\n",
              "      <th>channelGrouping</th>\n",
              "      <th>socialEngagementType</th>\n",
              "      <th>...</th>\n",
              "      <th>trafficSource.adwordsClickInfo.gclId</th>\n",
              "      <th>trafficSource.adwordsClickInfo.adNetworkType</th>\n",
              "      <th>trafficSource.adwordsClickInfo.isVideoAd</th>\n",
              "      <th>trafficSource.referralPath</th>\n",
              "      <th>trafficSource.adContent</th>\n",
              "      <th>totals.timeOnSite</th>\n",
              "      <th>trafficSource.keyword</th>\n",
              "      <th>totals.transactions</th>\n",
              "      <th>totals.transactionRevenue</th>\n",
              "      <th>totals.totalTransactionRevenue</th>\n",
              "    </tr>\n",
              "  </thead>\n",
              "  <tbody>\n",
              "  </tbody>\n",
              "</table>\n",
              "<p>0 rows × 59 columns</p>\n",
              "</div>\n",
              "      <button class=\"colab-df-convert\" onclick=\"convertToInteractive('df-8d66976d-5c2b-4f83-b827-6d7e477e8c4e')\"\n",
              "              title=\"Convert this dataframe to an interactive table.\"\n",
              "              style=\"display:none;\">\n",
              "        \n",
              "  <svg xmlns=\"http://www.w3.org/2000/svg\" height=\"24px\"viewBox=\"0 0 24 24\"\n",
              "       width=\"24px\">\n",
              "    <path d=\"M0 0h24v24H0V0z\" fill=\"none\"/>\n",
              "    <path d=\"M18.56 5.44l.94 2.06.94-2.06 2.06-.94-2.06-.94-.94-2.06-.94 2.06-2.06.94zm-11 1L8.5 8.5l.94-2.06 2.06-.94-2.06-.94L8.5 2.5l-.94 2.06-2.06.94zm10 10l.94 2.06.94-2.06 2.06-.94-2.06-.94-.94-2.06-.94 2.06-2.06.94z\"/><path d=\"M17.41 7.96l-1.37-1.37c-.4-.4-.92-.59-1.43-.59-.52 0-1.04.2-1.43.59L10.3 9.45l-7.72 7.72c-.78.78-.78 2.05 0 2.83L4 21.41c.39.39.9.59 1.41.59.51 0 1.02-.2 1.41-.59l7.78-7.78 2.81-2.81c.8-.78.8-2.07 0-2.86zM5.41 20L4 18.59l7.72-7.72 1.47 1.35L5.41 20z\"/>\n",
              "  </svg>\n",
              "      </button>\n",
              "      \n",
              "  <style>\n",
              "    .colab-df-container {\n",
              "      display:flex;\n",
              "      flex-wrap:wrap;\n",
              "      gap: 12px;\n",
              "    }\n",
              "\n",
              "    .colab-df-convert {\n",
              "      background-color: #E8F0FE;\n",
              "      border: none;\n",
              "      border-radius: 50%;\n",
              "      cursor: pointer;\n",
              "      display: none;\n",
              "      fill: #1967D2;\n",
              "      height: 32px;\n",
              "      padding: 0 0 0 0;\n",
              "      width: 32px;\n",
              "    }\n",
              "\n",
              "    .colab-df-convert:hover {\n",
              "      background-color: #E2EBFA;\n",
              "      box-shadow: 0px 1px 2px rgba(60, 64, 67, 0.3), 0px 1px 3px 1px rgba(60, 64, 67, 0.15);\n",
              "      fill: #174EA6;\n",
              "    }\n",
              "\n",
              "    [theme=dark] .colab-df-convert {\n",
              "      background-color: #3B4455;\n",
              "      fill: #D2E3FC;\n",
              "    }\n",
              "\n",
              "    [theme=dark] .colab-df-convert:hover {\n",
              "      background-color: #434B5C;\n",
              "      box-shadow: 0px 1px 3px 1px rgba(0, 0, 0, 0.15);\n",
              "      filter: drop-shadow(0px 1px 2px rgba(0, 0, 0, 0.3));\n",
              "      fill: #FFFFFF;\n",
              "    }\n",
              "  </style>\n",
              "\n",
              "      <script>\n",
              "        const buttonEl =\n",
              "          document.querySelector('#df-8d66976d-5c2b-4f83-b827-6d7e477e8c4e button.colab-df-convert');\n",
              "        buttonEl.style.display =\n",
              "          google.colab.kernel.accessAllowed ? 'block' : 'none';\n",
              "\n",
              "        async function convertToInteractive(key) {\n",
              "          const element = document.querySelector('#df-8d66976d-5c2b-4f83-b827-6d7e477e8c4e');\n",
              "          const dataTable =\n",
              "            await google.colab.kernel.invokeFunction('convertToInteractive',\n",
              "                                                     [key], {});\n",
              "          if (!dataTable) return;\n",
              "\n",
              "          const docLinkHtml = 'Like what you see? Visit the ' +\n",
              "            '<a target=\"_blank\" href=https://colab.research.google.com/notebooks/data_table.ipynb>data table notebook</a>'\n",
              "            + ' to learn more about interactive tables.';\n",
              "          element.innerHTML = '';\n",
              "          dataTable['output_type'] = 'display_data';\n",
              "          await google.colab.output.renderOutput(dataTable, element);\n",
              "          const docLink = document.createElement('div');\n",
              "          docLink.innerHTML = docLinkHtml;\n",
              "          element.appendChild(docLink);\n",
              "        }\n",
              "      </script>\n",
              "    </div>\n",
              "  </div>\n",
              "  "
            ]
          },
          "metadata": {},
          "execution_count": 13
        }
      ]
    },
    {
      "cell_type": "markdown",
      "source": [
        "Fill Missing Value with 0"
      ],
      "metadata": {
        "id": "_K4TGlx9VZWm"
      }
    },
    {
      "cell_type": "code",
      "source": [
        "data['totals.totalTransactionRevenue'][data['totals.totalTransactionRevenue'].isna()==True]=0"
      ],
      "metadata": {
        "colab": {
          "base_uri": "https://localhost:8080/"
        },
        "id": "zGbORUepVRpV",
        "outputId": "4b06c124-e870-4a25-9bbe-af9f41f4bcbe"
      },
      "execution_count": null,
      "outputs": [
        {
          "output_type": "stream",
          "name": "stderr",
          "text": [
            "/usr/local/lib/python3.7/dist-packages/ipykernel_launcher.py:1: SettingWithCopyWarning: \n",
            "A value is trying to be set on a copy of a slice from a DataFrame\n",
            "\n",
            "See the caveats in the documentation: https://pandas.pydata.org/pandas-docs/stable/user_guide/indexing.html#returning-a-view-versus-a-copy\n",
            "  \"\"\"Entry point for launching an IPython kernel.\n"
          ]
        }
      ]
    },
    {
      "cell_type": "code",
      "source": [
        "data_clustering = pd.DataFrame({'fullVisitorId':data['fullVisitorId'],'totalvisits':data['totals.visits'],'pageviews':data['totals.pageviews'],'totalTransactionRevenue':data['totals.totalTransactionRevenue']})"
      ],
      "metadata": {
        "id": "6CLS95INVg5r"
      },
      "execution_count": null,
      "outputs": []
    },
    {
      "cell_type": "code",
      "source": [
        "data_clustering"
      ],
      "metadata": {
        "colab": {
          "base_uri": "https://localhost:8080/",
          "height": 423
        },
        "id": "i5XTWE60VnZi",
        "outputId": "36bc3da8-6ec7-47d5-8181-2ebb9e97a0bd"
      },
      "execution_count": null,
      "outputs": [
        {
          "output_type": "execute_result",
          "data": {
            "text/plain": [
              "       fullVisitorId  totalvisits  pageviews  totalTransactionRevenue\n",
              "0       9.110055e+18            1          1                      0.0\n",
              "1       3.810132e+18            1          1                      0.0\n",
              "2       4.400063e+18            1          1                      0.0\n",
              "3       8.739403e+17            1          1                      0.0\n",
              "4       6.583696e+18            1          1                      0.0\n",
              "...              ...          ...        ...                      ...\n",
              "12391   2.974605e+18            1         12                      0.0\n",
              "12392   7.388247e+18            1         14                      0.0\n",
              "12393   6.555321e+18            1         23                      0.0\n",
              "12394   9.957470e+18            1         25                      0.0\n",
              "12395   7.624054e+18            1         21                      0.0\n",
              "\n",
              "[12396 rows x 4 columns]"
            ],
            "text/html": [
              "\n",
              "  <div id=\"df-d9dd0c32-2216-4f9c-ba2a-27c465a39227\">\n",
              "    <div class=\"colab-df-container\">\n",
              "      <div>\n",
              "<style scoped>\n",
              "    .dataframe tbody tr th:only-of-type {\n",
              "        vertical-align: middle;\n",
              "    }\n",
              "\n",
              "    .dataframe tbody tr th {\n",
              "        vertical-align: top;\n",
              "    }\n",
              "\n",
              "    .dataframe thead th {\n",
              "        text-align: right;\n",
              "    }\n",
              "</style>\n",
              "<table border=\"1\" class=\"dataframe\">\n",
              "  <thead>\n",
              "    <tr style=\"text-align: right;\">\n",
              "      <th></th>\n",
              "      <th>fullVisitorId</th>\n",
              "      <th>totalvisits</th>\n",
              "      <th>pageviews</th>\n",
              "      <th>totalTransactionRevenue</th>\n",
              "    </tr>\n",
              "  </thead>\n",
              "  <tbody>\n",
              "    <tr>\n",
              "      <th>0</th>\n",
              "      <td>9.110055e+18</td>\n",
              "      <td>1</td>\n",
              "      <td>1</td>\n",
              "      <td>0.0</td>\n",
              "    </tr>\n",
              "    <tr>\n",
              "      <th>1</th>\n",
              "      <td>3.810132e+18</td>\n",
              "      <td>1</td>\n",
              "      <td>1</td>\n",
              "      <td>0.0</td>\n",
              "    </tr>\n",
              "    <tr>\n",
              "      <th>2</th>\n",
              "      <td>4.400063e+18</td>\n",
              "      <td>1</td>\n",
              "      <td>1</td>\n",
              "      <td>0.0</td>\n",
              "    </tr>\n",
              "    <tr>\n",
              "      <th>3</th>\n",
              "      <td>8.739403e+17</td>\n",
              "      <td>1</td>\n",
              "      <td>1</td>\n",
              "      <td>0.0</td>\n",
              "    </tr>\n",
              "    <tr>\n",
              "      <th>4</th>\n",
              "      <td>6.583696e+18</td>\n",
              "      <td>1</td>\n",
              "      <td>1</td>\n",
              "      <td>0.0</td>\n",
              "    </tr>\n",
              "    <tr>\n",
              "      <th>...</th>\n",
              "      <td>...</td>\n",
              "      <td>...</td>\n",
              "      <td>...</td>\n",
              "      <td>...</td>\n",
              "    </tr>\n",
              "    <tr>\n",
              "      <th>12391</th>\n",
              "      <td>2.974605e+18</td>\n",
              "      <td>1</td>\n",
              "      <td>12</td>\n",
              "      <td>0.0</td>\n",
              "    </tr>\n",
              "    <tr>\n",
              "      <th>12392</th>\n",
              "      <td>7.388247e+18</td>\n",
              "      <td>1</td>\n",
              "      <td>14</td>\n",
              "      <td>0.0</td>\n",
              "    </tr>\n",
              "    <tr>\n",
              "      <th>12393</th>\n",
              "      <td>6.555321e+18</td>\n",
              "      <td>1</td>\n",
              "      <td>23</td>\n",
              "      <td>0.0</td>\n",
              "    </tr>\n",
              "    <tr>\n",
              "      <th>12394</th>\n",
              "      <td>9.957470e+18</td>\n",
              "      <td>1</td>\n",
              "      <td>25</td>\n",
              "      <td>0.0</td>\n",
              "    </tr>\n",
              "    <tr>\n",
              "      <th>12395</th>\n",
              "      <td>7.624054e+18</td>\n",
              "      <td>1</td>\n",
              "      <td>21</td>\n",
              "      <td>0.0</td>\n",
              "    </tr>\n",
              "  </tbody>\n",
              "</table>\n",
              "<p>12396 rows × 4 columns</p>\n",
              "</div>\n",
              "      <button class=\"colab-df-convert\" onclick=\"convertToInteractive('df-d9dd0c32-2216-4f9c-ba2a-27c465a39227')\"\n",
              "              title=\"Convert this dataframe to an interactive table.\"\n",
              "              style=\"display:none;\">\n",
              "        \n",
              "  <svg xmlns=\"http://www.w3.org/2000/svg\" height=\"24px\"viewBox=\"0 0 24 24\"\n",
              "       width=\"24px\">\n",
              "    <path d=\"M0 0h24v24H0V0z\" fill=\"none\"/>\n",
              "    <path d=\"M18.56 5.44l.94 2.06.94-2.06 2.06-.94-2.06-.94-.94-2.06-.94 2.06-2.06.94zm-11 1L8.5 8.5l.94-2.06 2.06-.94-2.06-.94L8.5 2.5l-.94 2.06-2.06.94zm10 10l.94 2.06.94-2.06 2.06-.94-2.06-.94-.94-2.06-.94 2.06-2.06.94z\"/><path d=\"M17.41 7.96l-1.37-1.37c-.4-.4-.92-.59-1.43-.59-.52 0-1.04.2-1.43.59L10.3 9.45l-7.72 7.72c-.78.78-.78 2.05 0 2.83L4 21.41c.39.39.9.59 1.41.59.51 0 1.02-.2 1.41-.59l7.78-7.78 2.81-2.81c.8-.78.8-2.07 0-2.86zM5.41 20L4 18.59l7.72-7.72 1.47 1.35L5.41 20z\"/>\n",
              "  </svg>\n",
              "      </button>\n",
              "      \n",
              "  <style>\n",
              "    .colab-df-container {\n",
              "      display:flex;\n",
              "      flex-wrap:wrap;\n",
              "      gap: 12px;\n",
              "    }\n",
              "\n",
              "    .colab-df-convert {\n",
              "      background-color: #E8F0FE;\n",
              "      border: none;\n",
              "      border-radius: 50%;\n",
              "      cursor: pointer;\n",
              "      display: none;\n",
              "      fill: #1967D2;\n",
              "      height: 32px;\n",
              "      padding: 0 0 0 0;\n",
              "      width: 32px;\n",
              "    }\n",
              "\n",
              "    .colab-df-convert:hover {\n",
              "      background-color: #E2EBFA;\n",
              "      box-shadow: 0px 1px 2px rgba(60, 64, 67, 0.3), 0px 1px 3px 1px rgba(60, 64, 67, 0.15);\n",
              "      fill: #174EA6;\n",
              "    }\n",
              "\n",
              "    [theme=dark] .colab-df-convert {\n",
              "      background-color: #3B4455;\n",
              "      fill: #D2E3FC;\n",
              "    }\n",
              "\n",
              "    [theme=dark] .colab-df-convert:hover {\n",
              "      background-color: #434B5C;\n",
              "      box-shadow: 0px 1px 3px 1px rgba(0, 0, 0, 0.15);\n",
              "      filter: drop-shadow(0px 1px 2px rgba(0, 0, 0, 0.3));\n",
              "      fill: #FFFFFF;\n",
              "    }\n",
              "  </style>\n",
              "\n",
              "      <script>\n",
              "        const buttonEl =\n",
              "          document.querySelector('#df-d9dd0c32-2216-4f9c-ba2a-27c465a39227 button.colab-df-convert');\n",
              "        buttonEl.style.display =\n",
              "          google.colab.kernel.accessAllowed ? 'block' : 'none';\n",
              "\n",
              "        async function convertToInteractive(key) {\n",
              "          const element = document.querySelector('#df-d9dd0c32-2216-4f9c-ba2a-27c465a39227');\n",
              "          const dataTable =\n",
              "            await google.colab.kernel.invokeFunction('convertToInteractive',\n",
              "                                                     [key], {});\n",
              "          if (!dataTable) return;\n",
              "\n",
              "          const docLinkHtml = 'Like what you see? Visit the ' +\n",
              "            '<a target=\"_blank\" href=https://colab.research.google.com/notebooks/data_table.ipynb>data table notebook</a>'\n",
              "            + ' to learn more about interactive tables.';\n",
              "          element.innerHTML = '';\n",
              "          dataTable['output_type'] = 'display_data';\n",
              "          await google.colab.output.renderOutput(dataTable, element);\n",
              "          const docLink = document.createElement('div');\n",
              "          docLink.innerHTML = docLinkHtml;\n",
              "          element.appendChild(docLink);\n",
              "        }\n",
              "      </script>\n",
              "    </div>\n",
              "  </div>\n",
              "  "
            ]
          },
          "metadata": {},
          "execution_count": 16
        }
      ]
    },
    {
      "cell_type": "code",
      "source": [
        "data_clustering['fullVisitorId'].value_counts()"
      ],
      "metadata": {
        "colab": {
          "base_uri": "https://localhost:8080/"
        },
        "id": "CvlCHirUVx-s",
        "outputId": "3bca7a35-5796-47d0-c894-81476edb9a69"
      },
      "execution_count": null,
      "outputs": [
        {
          "output_type": "execute_result",
          "data": {
            "text/plain": [
              "7.498696e+18    9\n",
              "6.250918e+18    9\n",
              "6.831832e+18    8\n",
              "9.357643e+18    8\n",
              "7.798607e+18    7\n",
              "               ..\n",
              "3.357889e+18    1\n",
              "9.296691e+18    1\n",
              "9.190670e+18    1\n",
              "4.155615e+18    1\n",
              "7.624054e+18    1\n",
              "Name: fullVisitorId, Length: 10991, dtype: int64"
            ]
          },
          "metadata": {},
          "execution_count": 17
        }
      ]
    },
    {
      "cell_type": "code",
      "source": [
        "data_clustering = data_clustering.groupby('fullVisitorId').sum()"
      ],
      "metadata": {
        "id": "IgWvA3-hVsVK"
      },
      "execution_count": null,
      "outputs": []
    },
    {
      "cell_type": "code",
      "source": [
        "data_clustering"
      ],
      "metadata": {
        "colab": {
          "base_uri": "https://localhost:8080/",
          "height": 455
        },
        "id": "7nywA8uDV6Kl",
        "outputId": "683cc73c-3c4f-4930-d399-973461cdcdc3"
      },
      "execution_count": null,
      "outputs": [
        {
          "output_type": "execute_result",
          "data": {
            "text/plain": [
              "               totalvisits  pageviews  totalTransactionRevenue\n",
              "fullVisitorId                                                 \n",
              "4.541792e+13             1          2                      0.0\n",
              "2.514160e+14             1          2                      0.0\n",
              "3.577675e+14             1          1                      0.0\n",
              "5.146827e+14             1          1                      0.0\n",
              "5.431751e+14             1          1                      0.0\n",
              "...                    ...        ...                      ...\n",
              "9.991289e+18             1          7                      0.0\n",
              "9.993558e+18             1          1                      0.0\n",
              "9.993760e+18             1          1                      0.0\n",
              "9.998622e+18             1          1                      0.0\n",
              "9.999978e+18             1          1                      0.0\n",
              "\n",
              "[10991 rows x 3 columns]"
            ],
            "text/html": [
              "\n",
              "  <div id=\"df-93688322-53e9-4840-824c-13c5b6109d23\">\n",
              "    <div class=\"colab-df-container\">\n",
              "      <div>\n",
              "<style scoped>\n",
              "    .dataframe tbody tr th:only-of-type {\n",
              "        vertical-align: middle;\n",
              "    }\n",
              "\n",
              "    .dataframe tbody tr th {\n",
              "        vertical-align: top;\n",
              "    }\n",
              "\n",
              "    .dataframe thead th {\n",
              "        text-align: right;\n",
              "    }\n",
              "</style>\n",
              "<table border=\"1\" class=\"dataframe\">\n",
              "  <thead>\n",
              "    <tr style=\"text-align: right;\">\n",
              "      <th></th>\n",
              "      <th>totalvisits</th>\n",
              "      <th>pageviews</th>\n",
              "      <th>totalTransactionRevenue</th>\n",
              "    </tr>\n",
              "    <tr>\n",
              "      <th>fullVisitorId</th>\n",
              "      <th></th>\n",
              "      <th></th>\n",
              "      <th></th>\n",
              "    </tr>\n",
              "  </thead>\n",
              "  <tbody>\n",
              "    <tr>\n",
              "      <th>4.541792e+13</th>\n",
              "      <td>1</td>\n",
              "      <td>2</td>\n",
              "      <td>0.0</td>\n",
              "    </tr>\n",
              "    <tr>\n",
              "      <th>2.514160e+14</th>\n",
              "      <td>1</td>\n",
              "      <td>2</td>\n",
              "      <td>0.0</td>\n",
              "    </tr>\n",
              "    <tr>\n",
              "      <th>3.577675e+14</th>\n",
              "      <td>1</td>\n",
              "      <td>1</td>\n",
              "      <td>0.0</td>\n",
              "    </tr>\n",
              "    <tr>\n",
              "      <th>5.146827e+14</th>\n",
              "      <td>1</td>\n",
              "      <td>1</td>\n",
              "      <td>0.0</td>\n",
              "    </tr>\n",
              "    <tr>\n",
              "      <th>5.431751e+14</th>\n",
              "      <td>1</td>\n",
              "      <td>1</td>\n",
              "      <td>0.0</td>\n",
              "    </tr>\n",
              "    <tr>\n",
              "      <th>...</th>\n",
              "      <td>...</td>\n",
              "      <td>...</td>\n",
              "      <td>...</td>\n",
              "    </tr>\n",
              "    <tr>\n",
              "      <th>9.991289e+18</th>\n",
              "      <td>1</td>\n",
              "      <td>7</td>\n",
              "      <td>0.0</td>\n",
              "    </tr>\n",
              "    <tr>\n",
              "      <th>9.993558e+18</th>\n",
              "      <td>1</td>\n",
              "      <td>1</td>\n",
              "      <td>0.0</td>\n",
              "    </tr>\n",
              "    <tr>\n",
              "      <th>9.993760e+18</th>\n",
              "      <td>1</td>\n",
              "      <td>1</td>\n",
              "      <td>0.0</td>\n",
              "    </tr>\n",
              "    <tr>\n",
              "      <th>9.998622e+18</th>\n",
              "      <td>1</td>\n",
              "      <td>1</td>\n",
              "      <td>0.0</td>\n",
              "    </tr>\n",
              "    <tr>\n",
              "      <th>9.999978e+18</th>\n",
              "      <td>1</td>\n",
              "      <td>1</td>\n",
              "      <td>0.0</td>\n",
              "    </tr>\n",
              "  </tbody>\n",
              "</table>\n",
              "<p>10991 rows × 3 columns</p>\n",
              "</div>\n",
              "      <button class=\"colab-df-convert\" onclick=\"convertToInteractive('df-93688322-53e9-4840-824c-13c5b6109d23')\"\n",
              "              title=\"Convert this dataframe to an interactive table.\"\n",
              "              style=\"display:none;\">\n",
              "        \n",
              "  <svg xmlns=\"http://www.w3.org/2000/svg\" height=\"24px\"viewBox=\"0 0 24 24\"\n",
              "       width=\"24px\">\n",
              "    <path d=\"M0 0h24v24H0V0z\" fill=\"none\"/>\n",
              "    <path d=\"M18.56 5.44l.94 2.06.94-2.06 2.06-.94-2.06-.94-.94-2.06-.94 2.06-2.06.94zm-11 1L8.5 8.5l.94-2.06 2.06-.94-2.06-.94L8.5 2.5l-.94 2.06-2.06.94zm10 10l.94 2.06.94-2.06 2.06-.94-2.06-.94-.94-2.06-.94 2.06-2.06.94z\"/><path d=\"M17.41 7.96l-1.37-1.37c-.4-.4-.92-.59-1.43-.59-.52 0-1.04.2-1.43.59L10.3 9.45l-7.72 7.72c-.78.78-.78 2.05 0 2.83L4 21.41c.39.39.9.59 1.41.59.51 0 1.02-.2 1.41-.59l7.78-7.78 2.81-2.81c.8-.78.8-2.07 0-2.86zM5.41 20L4 18.59l7.72-7.72 1.47 1.35L5.41 20z\"/>\n",
              "  </svg>\n",
              "      </button>\n",
              "      \n",
              "  <style>\n",
              "    .colab-df-container {\n",
              "      display:flex;\n",
              "      flex-wrap:wrap;\n",
              "      gap: 12px;\n",
              "    }\n",
              "\n",
              "    .colab-df-convert {\n",
              "      background-color: #E8F0FE;\n",
              "      border: none;\n",
              "      border-radius: 50%;\n",
              "      cursor: pointer;\n",
              "      display: none;\n",
              "      fill: #1967D2;\n",
              "      height: 32px;\n",
              "      padding: 0 0 0 0;\n",
              "      width: 32px;\n",
              "    }\n",
              "\n",
              "    .colab-df-convert:hover {\n",
              "      background-color: #E2EBFA;\n",
              "      box-shadow: 0px 1px 2px rgba(60, 64, 67, 0.3), 0px 1px 3px 1px rgba(60, 64, 67, 0.15);\n",
              "      fill: #174EA6;\n",
              "    }\n",
              "\n",
              "    [theme=dark] .colab-df-convert {\n",
              "      background-color: #3B4455;\n",
              "      fill: #D2E3FC;\n",
              "    }\n",
              "\n",
              "    [theme=dark] .colab-df-convert:hover {\n",
              "      background-color: #434B5C;\n",
              "      box-shadow: 0px 1px 3px 1px rgba(0, 0, 0, 0.15);\n",
              "      filter: drop-shadow(0px 1px 2px rgba(0, 0, 0, 0.3));\n",
              "      fill: #FFFFFF;\n",
              "    }\n",
              "  </style>\n",
              "\n",
              "      <script>\n",
              "        const buttonEl =\n",
              "          document.querySelector('#df-93688322-53e9-4840-824c-13c5b6109d23 button.colab-df-convert');\n",
              "        buttonEl.style.display =\n",
              "          google.colab.kernel.accessAllowed ? 'block' : 'none';\n",
              "\n",
              "        async function convertToInteractive(key) {\n",
              "          const element = document.querySelector('#df-93688322-53e9-4840-824c-13c5b6109d23');\n",
              "          const dataTable =\n",
              "            await google.colab.kernel.invokeFunction('convertToInteractive',\n",
              "                                                     [key], {});\n",
              "          if (!dataTable) return;\n",
              "\n",
              "          const docLinkHtml = 'Like what you see? Visit the ' +\n",
              "            '<a target=\"_blank\" href=https://colab.research.google.com/notebooks/data_table.ipynb>data table notebook</a>'\n",
              "            + ' to learn more about interactive tables.';\n",
              "          element.innerHTML = '';\n",
              "          dataTable['output_type'] = 'display_data';\n",
              "          await google.colab.output.renderOutput(dataTable, element);\n",
              "          const docLink = document.createElement('div');\n",
              "          docLink.innerHTML = docLinkHtml;\n",
              "          element.appendChild(docLink);\n",
              "        }\n",
              "      </script>\n",
              "    </div>\n",
              "  </div>\n",
              "  "
            ]
          },
          "metadata": {},
          "execution_count": 19
        }
      ]
    },
    {
      "cell_type": "code",
      "source": [
        "sns.set(font_scale=1.3)\n",
        "data_clustering.boxplot(column=['totalvisits'])"
      ],
      "metadata": {
        "colab": {
          "base_uri": "https://localhost:8080/",
          "height": 289
        },
        "id": "pFLoRKh2V8rF",
        "outputId": "59312487-ba01-42e2-b181-26ecaf0780af"
      },
      "execution_count": null,
      "outputs": [
        {
          "output_type": "execute_result",
          "data": {
            "text/plain": [
              "<matplotlib.axes._subplots.AxesSubplot at 0x7f1707aec450>"
            ]
          },
          "metadata": {},
          "execution_count": 20
        },
        {
          "output_type": "display_data",
          "data": {
            "text/plain": [
              "<Figure size 432x288 with 1 Axes>"
            ],
            "image/png": "[encoded data removed]"
          },
          "metadata": {}
        }
      ]
    },
    {
      "cell_type": "code",
      "source": [
        "data_clustering.boxplot(column=['totalTransactionRevenue'])"
      ],
      "metadata": {
        "colab": {
          "base_uri": "https://localhost:8080/",
          "height": 303
        },
        "id": "2vrkOc_GWBvG",
        "outputId": "04669811-1bde-49f3-a9bd-b3b5277a755b"
      },
      "execution_count": null,
      "outputs": [
        {
          "output_type": "execute_result",
          "data": {
            "text/plain": [
              "<matplotlib.axes._subplots.AxesSubplot at 0x7f1707a1a910>"
            ]
          },
          "metadata": {},
          "execution_count": 21
        },
        {
          "output_type": "display_data",
          "data": {
            "text/plain": [
              "<Figure size 432x288 with 1 Axes>"
            ],
            "image/png": "[encoded data removed]"
          },
          "metadata": {}
        }
      ]
    },
    {
      "cell_type": "code",
      "source": [
        "data_clustering.boxplot(column=['pageviews'])"
      ],
      "metadata": {
        "colab": {
          "base_uri": "https://localhost:8080/",
          "height": 289
        },
        "id": "Br3AlL7bWFLu",
        "outputId": "63c45fe0-5ecf-4fb5-972d-a27d802f86bc"
      },
      "execution_count": null,
      "outputs": [
        {
          "output_type": "execute_result",
          "data": {
            "text/plain": [
              "<matplotlib.axes._subplots.AxesSubplot at 0x7f17079d0e50>"
            ]
          },
          "metadata": {},
          "execution_count": 22
        },
        {
          "output_type": "display_data",
          "data": {
            "text/plain": [
              "<Figure size 432x288 with 1 Axes>"
            ],
            "image/png": "[encoded data removed]"
          },
          "metadata": {}
        }
      ]
    },
    {
      "cell_type": "markdown",
      "source": [
        "Check the assumption"
      ],
      "metadata": {
        "id": "NkAmBZe4XVcs"
      }
    },
    {
      "cell_type": "code",
      "source": [
        "%matplotlib inline\n",
        "correlation = data_clustering.corr()\n",
        "sns.heatmap(correlation,annot=True)"
      ],
      "metadata": {
        "colab": {
          "base_uri": "https://localhost:8080/",
          "height": 457
        },
        "id": "WzJRqbYuWKFc",
        "outputId": "ab191bcd-00b7-4993-b13b-908e03f60261"
      },
      "execution_count": null,
      "outputs": [
        {
          "output_type": "execute_result",
          "data": {
            "text/plain": [
              "<matplotlib.axes._subplots.AxesSubplot at 0x7f17034a2510>"
            ]
          },
          "metadata": {},
          "execution_count": 23
        },
        {
          "output_type": "display_data",
          "data": {
            "text/plain": [
              "<Figure size 432x288 with 2 Axes>"
            ],
            "image/png": "[encoded data removed]"
          },
          "metadata": {
            "needs_background": "light"
          }
        }
      ]
    },
    {
      "cell_type": "markdown",
      "source": [
        "### K-Means Clustering"
      ],
      "metadata": {
        "id": "W_L5TOD1XSKt"
      }
    },
    {
      "cell_type": "code",
      "source": [
        "from sklearn.cluster import KMeans\n",
        "from sklearn.metrics import silhouette_score\n",
        "from sklearn.preprocessing import StandardScaler"
      ],
      "metadata": {
        "id": "W4aSv8vkWn88"
      },
      "execution_count": null,
      "outputs": []
    },
    {
      "cell_type": "code",
      "source": [
        "range_n_clusters = [2, 3, 4, 5, 6, 7, 8]\n",
        "silhouette_avg = []\n",
        "bestsilhoutte = 0"
      ],
      "metadata": {
        "id": "1kb3DrfNXZWt"
      },
      "execution_count": null,
      "outputs": []
    },
    {
      "cell_type": "code",
      "source": [
        "for num_cluster in range_n_clusters:\n",
        "\n",
        " # initialise KMeans\n",
        " kmeans = KMeans(init=\"random\", n_clusters=num_clusters, n_init=10, max_iter=300,random_state=42)\n",
        " #fit the clusters\n",
        " kmeans.fit(data_clustering)\n",
        " clusters = kmeans.labels_\n",
        " print(num_clusters)\n",
        "\n",
        " # silhouette score\n",
        " score = silhouette_score(data_clustering, clusters, metric='euclidean')\n",
        " print('Silhouetter Score: %.3f' % score)\n",
        " silhouette_avg.append(score)\n",
        "\n",
        " if score > bestsilhoutte:\n",
        "   bestclusters = clusters\n",
        "   bestsilhoutte = score"
      ],
      "metadata": {
        "colab": {
          "base_uri": "https://localhost:8080/"
        },
        "id": "iopWv6j4XgKo",
        "outputId": "9980083c-4e54-4b93-c72a-1f587fc625dc"
      },
      "execution_count": null,
      "outputs": [
        {
          "output_type": "stream",
          "name": "stdout",
          "text": [
            "2\n",
            "Silhouetter Score: 0.998\n",
            "3\n",
            "Silhouetter Score: 0.997\n",
            "4\n",
            "Silhouetter Score: 0.996\n",
            "5\n",
            "Silhouetter Score: 0.994\n",
            "6\n",
            "Silhouetter Score: 0.994\n",
            "7\n",
            "Silhouetter Score: 0.994\n",
            "8\n",
            "Silhouetter Score: 0.995\n"
          ]
        }
      ]
    },
    {
      "cell_type": "code",
      "source": [
        "plt.plot(range_n_clusters,silhouette_avg,'bx-')\n",
        "plt.xlabel('Values of K')\n",
        "plt.ylabel('Silhouette score')\n",
        "plt.title('Silhouette analysis For Optimal k')\n",
        "plt.show()"
      ],
      "metadata": {
        "colab": {
          "base_uri": "https://localhost:8080/",
          "height": 309
        },
        "id": "ayIv0LanbDyn",
        "outputId": "06986286-7671-4d4c-f8a2-53183f7a62da"
      },
      "execution_count": null,
      "outputs": [
        {
          "output_type": "display_data",
          "data": {
            "text/plain": [
              "<Figure size 432x288 with 1 Axes>"
            ],
            "image/png": "[encoded data removed]"
          },
          "metadata": {
            "needs_background": "light"
          }
        }
      ]
    },
    {
      "cell_type": "code",
      "source": [
        "data_result_kmeans = data_clustering.copy()"
      ],
      "metadata": {
        "id": "oJnF2Nddb-RB"
      },
      "execution_count": null,
      "outputs": []
    },
    {
      "cell_type": "code",
      "source": [
        "data_result_kmeans['cluster'] = bestclusters"
      ],
      "metadata": {
        "id": "M8b8xfkkbqGe"
      },
      "execution_count": null,
      "outputs": []
    },
    {
      "cell_type": "code",
      "source": [
        "data_result_kmeans"
      ],
      "metadata": {
        "colab": {
          "base_uri": "https://localhost:8080/",
          "height": 455
        },
        "id": "h6tG2mF8cKig",
        "outputId": "f18000e3-f316-4232-a244-8ba5181889bc"
      },
      "execution_count": null,
      "outputs": [
        {
          "output_type": "execute_result",
          "data": {
            "text/plain": [
              "               totalvisits  pageviews  totalTransactionRevenue  cluster\n",
              "fullVisitorId                                                          \n",
              "4.541792e+13             1          2                      0.0        1\n",
              "2.514160e+14             1          2                      0.0        1\n",
              "3.577675e+14             1          1                      0.0        1\n",
              "5.146827e+14             1          1                      0.0        1\n",
              "5.431751e+14             1          1                      0.0        1\n",
              "...                    ...        ...                      ...      ...\n",
              "9.991289e+18             1          7                      0.0        1\n",
              "9.993558e+18             1          1                      0.0        1\n",
              "9.993760e+18             1          1                      0.0        1\n",
              "9.998622e+18             1          1                      0.0        1\n",
              "9.999978e+18             1          1                      0.0        1\n",
              "\n",
              "[10991 rows x 4 columns]"
            ],
            "text/html": [
              "\n",
              "  <div id=\"df-4bb6bf7a-82e6-4317-8688-a105ecedaf5d\">\n",
              "    <div class=\"colab-df-container\">\n",
              "      <div>\n",
              "<style scoped>\n",
              "    .dataframe tbody tr th:only-of-type {\n",
              "        vertical-align: middle;\n",
              "    }\n",
              "\n",
              "    .dataframe tbody tr th {\n",
              "        vertical-align: top;\n",
              "    }\n",
              "\n",
              "    .dataframe thead th {\n",
              "        text-align: right;\n",
              "    }\n",
              "</style>\n",
              "<table border=\"1\" class=\"dataframe\">\n",
              "  <thead>\n",
              "    <tr style=\"text-align: right;\">\n",
              "      <th></th>\n",
              "      <th>totalvisits</th>\n",
              "      <th>pageviews</th>\n",
              "      <th>totalTransactionRevenue</th>\n",
              "      <th>cluster</th>\n",
              "    </tr>\n",
              "    <tr>\n",
              "      <th>fullVisitorId</th>\n",
              "      <th></th>\n",
              "      <th></th>\n",
              "      <th></th>\n",
              "      <th></th>\n",
              "    </tr>\n",
              "  </thead>\n",
              "  <tbody>\n",
              "    <tr>\n",
              "      <th>4.541792e+13</th>\n",
              "      <td>1</td>\n",
              "      <td>2</td>\n",
              "      <td>0.0</td>\n",
              "      <td>1</td>\n",
              "    </tr>\n",
              "    <tr>\n",
              "      <th>2.514160e+14</th>\n",
              "      <td>1</td>\n",
              "      <td>2</td>\n",
              "      <td>0.0</td>\n",
              "      <td>1</td>\n",
              "    </tr>\n",
              "    <tr>\n",
              "      <th>3.577675e+14</th>\n",
              "      <td>1</td>\n",
              "      <td>1</td>\n",
              "      <td>0.0</td>\n",
              "      <td>1</td>\n",
              "    </tr>\n",
              "    <tr>\n",
              "      <th>5.146827e+14</th>\n",
              "      <td>1</td>\n",
              "      <td>1</td>\n",
              "      <td>0.0</td>\n",
              "      <td>1</td>\n",
              "    </tr>\n",
              "    <tr>\n",
              "      <th>5.431751e+14</th>\n",
              "      <td>1</td>\n",
              "      <td>1</td>\n",
              "      <td>0.0</td>\n",
              "      <td>1</td>\n",
              "    </tr>\n",
              "    <tr>\n",
              "      <th>...</th>\n",
              "      <td>...</td>\n",
              "      <td>...</td>\n",
              "      <td>...</td>\n",
              "      <td>...</td>\n",
              "    </tr>\n",
              "    <tr>\n",
              "      <th>9.991289e+18</th>\n",
              "      <td>1</td>\n",
              "      <td>7</td>\n",
              "      <td>0.0</td>\n",
              "      <td>1</td>\n",
              "    </tr>\n",
              "    <tr>\n",
              "      <th>9.993558e+18</th>\n",
              "      <td>1</td>\n",
              "      <td>1</td>\n",
              "      <td>0.0</td>\n",
              "      <td>1</td>\n",
              "    </tr>\n",
              "    <tr>\n",
              "      <th>9.993760e+18</th>\n",
              "      <td>1</td>\n",
              "      <td>1</td>\n",
              "      <td>0.0</td>\n",
              "      <td>1</td>\n",
              "    </tr>\n",
              "    <tr>\n",
              "      <th>9.998622e+18</th>\n",
              "      <td>1</td>\n",
              "      <td>1</td>\n",
              "      <td>0.0</td>\n",
              "      <td>1</td>\n",
              "    </tr>\n",
              "    <tr>\n",
              "      <th>9.999978e+18</th>\n",
              "      <td>1</td>\n",
              "      <td>1</td>\n",
              "      <td>0.0</td>\n",
              "      <td>1</td>\n",
              "    </tr>\n",
              "  </tbody>\n",
              "</table>\n",
              "<p>10991 rows × 4 columns</p>\n",
              "</div>\n",
              "      <button class=\"colab-df-convert\" onclick=\"convertToInteractive('df-4bb6bf7a-82e6-4317-8688-a105ecedaf5d')\"\n",
              "              title=\"Convert this dataframe to an interactive table.\"\n",
              "              style=\"display:none;\">\n",
              "        \n",
              "  <svg xmlns=\"http://www.w3.org/2000/svg\" height=\"24px\"viewBox=\"0 0 24 24\"\n",
              "       width=\"24px\">\n",
              "    <path d=\"M0 0h24v24H0V0z\" fill=\"none\"/>\n",
              "    <path d=\"M18.56 5.44l.94 2.06.94-2.06 2.06-.94-2.06-.94-.94-2.06-.94 2.06-2.06.94zm-11 1L8.5 8.5l.94-2.06 2.06-.94-2.06-.94L8.5 2.5l-.94 2.06-2.06.94zm10 10l.94 2.06.94-2.06 2.06-.94-2.06-.94-.94-2.06-.94 2.06-2.06.94z\"/><path d=\"M17.41 7.96l-1.37-1.37c-.4-.4-.92-.59-1.43-.59-.52 0-1.04.2-1.43.59L10.3 9.45l-7.72 7.72c-.78.78-.78 2.05 0 2.83L4 21.41c.39.39.9.59 1.41.59.51 0 1.02-.2 1.41-.59l7.78-7.78 2.81-2.81c.8-.78.8-2.07 0-2.86zM5.41 20L4 18.59l7.72-7.72 1.47 1.35L5.41 20z\"/>\n",
              "  </svg>\n",
              "      </button>\n",
              "      \n",
              "  <style>\n",
              "    .colab-df-container {\n",
              "      display:flex;\n",
              "      flex-wrap:wrap;\n",
              "      gap: 12px;\n",
              "    }\n",
              "\n",
              "    .colab-df-convert {\n",
              "      background-color: #E8F0FE;\n",
              "      border: none;\n",
              "      border-radius: 50%;\n",
              "      cursor: pointer;\n",
              "      display: none;\n",
              "      fill: #1967D2;\n",
              "      height: 32px;\n",
              "      padding: 0 0 0 0;\n",
              "      width: 32px;\n",
              "    }\n",
              "\n",
              "    .colab-df-convert:hover {\n",
              "      background-color: #E2EBFA;\n",
              "      box-shadow: 0px 1px 2px rgba(60, 64, 67, 0.3), 0px 1px 3px 1px rgba(60, 64, 67, 0.15);\n",
              "      fill: #174EA6;\n",
              "    }\n",
              "\n",
              "    [theme=dark] .colab-df-convert {\n",
              "      background-color: #3B4455;\n",
              "      fill: #D2E3FC;\n",
              "    }\n",
              "\n",
              "    [theme=dark] .colab-df-convert:hover {\n",
              "      background-color: #434B5C;\n",
              "      box-shadow: 0px 1px 3px 1px rgba(0, 0, 0, 0.15);\n",
              "      filter: drop-shadow(0px 1px 2px rgba(0, 0, 0, 0.3));\n",
              "      fill: #FFFFFF;\n",
              "    }\n",
              "  </style>\n",
              "\n",
              "      <script>\n",
              "        const buttonEl =\n",
              "          document.querySelector('#df-4bb6bf7a-82e6-4317-8688-a105ecedaf5d button.colab-df-convert');\n",
              "        buttonEl.style.display =\n",
              "          google.colab.kernel.accessAllowed ? 'block' : 'none';\n",
              "\n",
              "        async function convertToInteractive(key) {\n",
              "          const element = document.querySelector('#df-4bb6bf7a-82e6-4317-8688-a105ecedaf5d');\n",
              "          const dataTable =\n",
              "            await google.colab.kernel.invokeFunction('convertToInteractive',\n",
              "                                                     [key], {});\n",
              "          if (!dataTable) return;\n",
              "\n",
              "          const docLinkHtml = 'Like what you see? Visit the ' +\n",
              "            '<a target=\"_blank\" href=https://colab.research.google.com/notebooks/data_table.ipynb>data table notebook</a>'\n",
              "            + ' to learn more about interactive tables.';\n",
              "          element.innerHTML = '';\n",
              "          dataTable['output_type'] = 'display_data';\n",
              "          await google.colab.output.renderOutput(dataTable, element);\n",
              "          const docLink = document.createElement('div');\n",
              "          docLink.innerHTML = docLinkHtml;\n",
              "          element.appendChild(docLink);\n",
              "        }\n",
              "      </script>\n",
              "    </div>\n",
              "  </div>\n",
              "  "
            ]
          },
          "metadata": {},
          "execution_count": 30
        }
      ]
    },
    {
      "cell_type": "code",
      "source": [
        "data_result_kmeans['cluster'].value_counts()"
      ],
      "metadata": {
        "colab": {
          "base_uri": "https://localhost:8080/"
        },
        "id": "JPVG6sOlb7CT",
        "outputId": "606d72f4-5a5d-45ff-81e3-8b0004195d4f"
      },
      "execution_count": null,
      "outputs": [
        {
          "output_type": "execute_result",
          "data": {
            "text/plain": [
              "1    10984\n",
              "0        7\n",
              "Name: cluster, dtype: int64"
            ]
          },
          "metadata": {},
          "execution_count": 31
        }
      ]
    },
    {
      "cell_type": "code",
      "source": [
        "plt.figure(figsize=(8,5))\n",
        "sns.boxplot(x='cluster',y='totalTransactionRevenue',data=data_result_kmeans, palette='rainbow')\n",
        "plt.title(\"Total Revenue each Cluster\")"
      ],
      "metadata": {
        "colab": {
          "base_uri": "https://localhost:8080/",
          "height": 381
        },
        "id": "SSaDuxWAcFTc",
        "outputId": "3f531b32-69fc-4f3e-e0db-29ec7c27dcab"
      },
      "execution_count": null,
      "outputs": [
        {
          "output_type": "execute_result",
          "data": {
            "text/plain": [
              "Text(0.5, 1.0, 'Total Revenue each Cluster')"
            ]
          },
          "metadata": {},
          "execution_count": 32
        },
        {
          "output_type": "display_data",
          "data": {
            "text/plain": [
              "<Figure size 576x360 with 1 Axes>"
            ],
            "image/png": "[encoded data removed]"
          },
          "metadata": {
            "needs_background": "light"
          }
        }
      ]
    },
    {
      "cell_type": "code",
      "source": [
        "plt.figure(figsize=(8,5))\n",
        "sns.boxplot(x='cluster',y='totalvisits',data=data_result_kmeans, palette='rainbow')\n",
        "plt.title(\"Total Visits each Cluster\")"
      ],
      "metadata": {
        "colab": {
          "base_uri": "https://localhost:8080/",
          "height": 381
        },
        "id": "gR56VXJGcV-A",
        "outputId": "33b66ddb-b50f-4101-8af5-d8153447419d"
      },
      "execution_count": null,
      "outputs": [
        {
          "output_type": "execute_result",
          "data": {
            "text/plain": [
              "Text(0.5, 1.0, 'Total Visits each Cluster')"
            ]
          },
          "metadata": {},
          "execution_count": 33
        },
        {
          "output_type": "display_data",
          "data": {
            "text/plain": [
              "<Figure size 576x360 with 1 Axes>"
            ],
            "image/png": "[encoded data removed]"
          },
          "metadata": {
            "needs_background": "light"
          }
        }
      ]
    },
    {
      "cell_type": "code",
      "source": [
        "plt.figure(figsize=(8,5))\n",
        "sns.boxplot(x='cluster',y='pageviews',data=data_result_kmeans, palette='rainbow')\n",
        "plt.title(\"Total Page Views each Cluster\")"
      ],
      "metadata": {
        "colab": {
          "base_uri": "https://localhost:8080/",
          "height": 381
        },
        "id": "IxHbQSqicaog",
        "outputId": "e5f32f2c-d6fa-4cc3-f33a-f8c242e8dd7d"
      },
      "execution_count": null,
      "outputs": [
        {
          "output_type": "execute_result",
          "data": {
            "text/plain": [
              "Text(0.5, 1.0, 'Total Page Views each Cluster')"
            ]
          },
          "metadata": {},
          "execution_count": 34
        },
        {
          "output_type": "display_data",
          "data": {
            "text/plain": [
              "<Figure size 576x360 with 1 Axes>"
            ],
            "image/png": "[encoded data removed]"
          },
          "metadata": {
            "needs_background": "light"
          }
        }
      ]
    },
    {
      "cell_type": "markdown",
      "source": [
        "### Partitioning Around Medoids"
      ],
      "metadata": {
        "id": "P3pqhXILch2c"
      }
    },
    {
      "cell_type": "code",
      "source": [
        "!pip install scikit-learn-extra"
      ],
      "metadata": {
        "colab": {
          "base_uri": "https://localhost:8080/"
        },
        "id": "_XzHE5kjdgXv",
        "outputId": "10154aff-c060-4f1a-b04b-610be4619673"
      },
      "execution_count": null,
      "outputs": [
        {
          "output_type": "stream",
          "name": "stdout",
          "text": [
            "Collecting scikit-learn-extra\n",
            "  Downloading scikit_learn_extra-0.2.0-cp37-cp37m-manylinux2010_x86_64.whl (1.7 MB)\n",
            "\u001b[?25l\r\u001b[K     |▏                               | 10 kB 24.3 MB/s eta 0:00:01\r\u001b[K     |▍                               | 20 kB 12.7 MB/s eta 0:00:01\r\u001b[K     |▋                               | 30 kB 9.0 MB/s eta 0:00:01\r\u001b[K     |▊                               | 40 kB 3.6 MB/s eta 0:00:01\r\u001b[K     |█                               | 51 kB 3.6 MB/s eta 0:00:01\r\u001b[K     |█▏                              | 61 kB 4.3 MB/s eta 0:00:01\r\u001b[K     |█▍                              | 71 kB 4.5 MB/s eta 0:00:01\r\u001b[K     |█▌                              | 81 kB 4.5 MB/s eta 0:00:01\r\u001b[K     |█▊                              | 92 kB 5.0 MB/s eta 0:00:01\r\u001b[K     |██                              | 102 kB 4.2 MB/s eta 0:00:01\r\u001b[K     |██                              | 112 kB 4.2 MB/s eta 0:00:01\r\u001b[K     |██▎                             | 122 kB 4.2 MB/s eta 0:00:01\r\u001b[K     |██▌                             | 133 kB 4.2 MB/s eta 0:00:01\r\u001b[K     |██▊                             | 143 kB 4.2 MB/s eta 0:00:01\r\u001b[K     |██▉                             | 153 kB 4.2 MB/s eta 0:00:01\r\u001b[K     |███                             | 163 kB 4.2 MB/s eta 0:00:01\r\u001b[K     |███▎                            | 174 kB 4.2 MB/s eta 0:00:01\r\u001b[K     |███▌                            | 184 kB 4.2 MB/s eta 0:00:01\r\u001b[K     |███▋                            | 194 kB 4.2 MB/s eta 0:00:01\r\u001b[K     |███▉                            | 204 kB 4.2 MB/s eta 0:00:01\r\u001b[K     |████                            | 215 kB 4.2 MB/s eta 0:00:01\r\u001b[K     |████▏                           | 225 kB 4.2 MB/s eta 0:00:01\r\u001b[K     |████▍                           | 235 kB 4.2 MB/s eta 0:00:01\r\u001b[K     |████▋                           | 245 kB 4.2 MB/s eta 0:00:01\r\u001b[K     |████▉                           | 256 kB 4.2 MB/s eta 0:00:01\r\u001b[K     |█████                           | 266 kB 4.2 MB/s eta 0:00:01\r\u001b[K     |█████▏                          | 276 kB 4.2 MB/s eta 0:00:01\r\u001b[K     |█████▍                          | 286 kB 4.2 MB/s eta 0:00:01\r\u001b[K     |█████▋                          | 296 kB 4.2 MB/s eta 0:00:01\r\u001b[K     |█████▊                          | 307 kB 4.2 MB/s eta 0:00:01\r\u001b[K     |██████                          | 317 kB 4.2 MB/s eta 0:00:01\r\u001b[K     |██████▏                         | 327 kB 4.2 MB/s eta 0:00:01\r\u001b[K     |██████▎                         | 337 kB 4.2 MB/s eta 0:00:01\r\u001b[K     |██████▌                         | 348 kB 4.2 MB/s eta 0:00:01\r\u001b[K     |██████▊                         | 358 kB 4.2 MB/s eta 0:00:01\r\u001b[K     |███████                         | 368 kB 4.2 MB/s eta 0:00:01\r\u001b[K     |███████                         | 378 kB 4.2 MB/s eta 0:00:01\r\u001b[K     |███████▎                        | 389 kB 4.2 MB/s eta 0:00:01\r\u001b[K     |███████▌                        | 399 kB 4.2 MB/s eta 0:00:01\r\u001b[K     |███████▋                        | 409 kB 4.2 MB/s eta 0:00:01\r\u001b[K     |███████▉                        | 419 kB 4.2 MB/s eta 0:00:01\r\u001b[K     |████████                        | 430 kB 4.2 MB/s eta 0:00:01\r\u001b[K     |████████▎                       | 440 kB 4.2 MB/s eta 0:00:01\r\u001b[K     |████████▍                       | 450 kB 4.2 MB/s eta 0:00:01\r\u001b[K     |████████▋                       | 460 kB 4.2 MB/s eta 0:00:01\r\u001b[K     |████████▉                       | 471 kB 4.2 MB/s eta 0:00:01\r\u001b[K     |█████████                       | 481 kB 4.2 MB/s eta 0:00:01\r\u001b[K     |█████████▏                      | 491 kB 4.2 MB/s eta 0:00:01\r\u001b[K     |█████████▍                      | 501 kB 4.2 MB/s eta 0:00:01\r\u001b[K     |█████████▋                      | 512 kB 4.2 MB/s eta 0:00:01\r\u001b[K     |█████████▊                      | 522 kB 4.2 MB/s eta 0:00:01\r\u001b[K     |██████████                      | 532 kB 4.2 MB/s eta 0:00:01\r\u001b[K     |██████████▏                     | 542 kB 4.2 MB/s eta 0:00:01\r\u001b[K     |██████████▍                     | 552 kB 4.2 MB/s eta 0:00:01\r\u001b[K     |██████████▌                     | 563 kB 4.2 MB/s eta 0:00:01\r\u001b[K     |██████████▊                     | 573 kB 4.2 MB/s eta 0:00:01\r\u001b[K     |███████████                     | 583 kB 4.2 MB/s eta 0:00:01\r\u001b[K     |███████████▏                    | 593 kB 4.2 MB/s eta 0:00:01\r\u001b[K     |███████████▎                    | 604 kB 4.2 MB/s eta 0:00:01\r\u001b[K     |███████████▌                    | 614 kB 4.2 MB/s eta 0:00:01\r\u001b[K     |███████████▊                    | 624 kB 4.2 MB/s eta 0:00:01\r\u001b[K     |███████████▉                    | 634 kB 4.2 MB/s eta 0:00:01\r\u001b[K     |████████████                    | 645 kB 4.2 MB/s eta 0:00:01\r\u001b[K     |████████████▎                   | 655 kB 4.2 MB/s eta 0:00:01\r\u001b[K     |████████████▌                   | 665 kB 4.2 MB/s eta 0:00:01\r\u001b[K     |████████████▋                   | 675 kB 4.2 MB/s eta 0:00:01\r\u001b[K     |████████████▉                   | 686 kB 4.2 MB/s eta 0:00:01\r\u001b[K     |█████████████                   | 696 kB 4.2 MB/s eta 0:00:01\r\u001b[K     |█████████████▏                  | 706 kB 4.2 MB/s eta 0:00:01\r\u001b[K     |█████████████▍                  | 716 kB 4.2 MB/s eta 0:00:01\r\u001b[K     |█████████████▋                  | 727 kB 4.2 MB/s eta 0:00:01\r\u001b[K     |█████████████▉                  | 737 kB 4.2 MB/s eta 0:00:01\r\u001b[K     |██████████████                  | 747 kB 4.2 MB/s eta 0:00:01\r\u001b[K     |██████████████▏                 | 757 kB 4.2 MB/s eta 0:00:01\r\u001b[K     |██████████████▍                 | 768 kB 4.2 MB/s eta 0:00:01\r\u001b[K     |██████████████▋                 | 778 kB 4.2 MB/s eta 0:00:01\r\u001b[K     |██████████████▊                 | 788 kB 4.2 MB/s eta 0:00:01\r\u001b[K     |███████████████                 | 798 kB 4.2 MB/s eta 0:00:01\r\u001b[K     |███████████████▏                | 808 kB 4.2 MB/s eta 0:00:01\r\u001b[K     |███████████████▎                | 819 kB 4.2 MB/s eta 0:00:01\r\u001b[K     |███████████████▌                | 829 kB 4.2 MB/s eta 0:00:01\r\u001b[K     |███████████████▊                | 839 kB 4.2 MB/s eta 0:00:01\r\u001b[K     |████████████████                | 849 kB 4.2 MB/s eta 0:00:01\r\u001b[K     |████████████████                | 860 kB 4.2 MB/s eta 0:00:01\r\u001b[K     |████████████████▎               | 870 kB 4.2 MB/s eta 0:00:01\r\u001b[K     |████████████████▌               | 880 kB 4.2 MB/s eta 0:00:01\r\u001b[K     |████████████████▊               | 890 kB 4.2 MB/s eta 0:00:01\r\u001b[K     |████████████████▉               | 901 kB 4.2 MB/s eta 0:00:01\r\u001b[K     |█████████████████               | 911 kB 4.2 MB/s eta 0:00:01\r\u001b[K     |█████████████████▎              | 921 kB 4.2 MB/s eta 0:00:01\r\u001b[K     |█████████████████▍              | 931 kB 4.2 MB/s eta 0:00:01\r\u001b[K     |█████████████████▋              | 942 kB 4.2 MB/s eta 0:00:01\r\u001b[K     |█████████████████▉              | 952 kB 4.2 MB/s eta 0:00:01\r\u001b[K     |██████████████████              | 962 kB 4.2 MB/s eta 0:00:01\r\u001b[K     |██████████████████▏             | 972 kB 4.2 MB/s eta 0:00:01\r\u001b[K     |██████████████████▍             | 983 kB 4.2 MB/s eta 0:00:01\r\u001b[K     |██████████████████▋             | 993 kB 4.2 MB/s eta 0:00:01\r\u001b[K     |██████████████████▊             | 1.0 MB 4.2 MB/s eta 0:00:01\r\u001b[K     |███████████████████             | 1.0 MB 4.2 MB/s eta 0:00:01\r\u001b[K     |███████████████████▏            | 1.0 MB 4.2 MB/s eta 0:00:01\r\u001b[K     |███████████████████▍            | 1.0 MB 4.2 MB/s eta 0:00:01\r\u001b[K     |███████████████████▌            | 1.0 MB 4.2 MB/s eta 0:00:01\r\u001b[K     |███████████████████▊            | 1.1 MB 4.2 MB/s eta 0:00:01\r\u001b[K     |████████████████████            | 1.1 MB 4.2 MB/s eta 0:00:01\r\u001b[K     |████████████████████▏           | 1.1 MB 4.2 MB/s eta 0:00:01\r\u001b[K     |████████████████████▎           | 1.1 MB 4.2 MB/s eta 0:00:01\r\u001b[K     |████████████████████▌           | 1.1 MB 4.2 MB/s eta 0:00:01\r\u001b[K     |████████████████████▊           | 1.1 MB 4.2 MB/s eta 0:00:01\r\u001b[K     |████████████████████▉           | 1.1 MB 4.2 MB/s eta 0:00:01\r\u001b[K     |█████████████████████           | 1.1 MB 4.2 MB/s eta 0:00:01\r\u001b[K     |█████████████████████▎          | 1.1 MB 4.2 MB/s eta 0:00:01\r\u001b[K     |█████████████████████▌          | 1.1 MB 4.2 MB/s eta 0:00:01\r\u001b[K     |█████████████████████▋          | 1.2 MB 4.2 MB/s eta 0:00:01\r\u001b[K     |█████████████████████▉          | 1.2 MB 4.2 MB/s eta 0:00:01\r\u001b[K     |██████████████████████          | 1.2 MB 4.2 MB/s eta 0:00:01\r\u001b[K     |██████████████████████▎         | 1.2 MB 4.2 MB/s eta 0:00:01\r\u001b[K     |██████████████████████▍         | 1.2 MB 4.2 MB/s eta 0:00:01\r\u001b[K     |██████████████████████▋         | 1.2 MB 4.2 MB/s eta 0:00:01\r\u001b[K     |██████████████████████▉         | 1.2 MB 4.2 MB/s eta 0:00:01\r\u001b[K     |███████████████████████         | 1.2 MB 4.2 MB/s eta 0:00:01\r\u001b[K     |███████████████████████▏        | 1.2 MB 4.2 MB/s eta 0:00:01\r\u001b[K     |███████████████████████▍        | 1.2 MB 4.2 MB/s eta 0:00:01\r\u001b[K     |███████████████████████▋        | 1.3 MB 4.2 MB/s eta 0:00:01\r\u001b[K     |███████████████████████▊        | 1.3 MB 4.2 MB/s eta 0:00:01\r\u001b[K     |████████████████████████        | 1.3 MB 4.2 MB/s eta 0:00:01\r\u001b[K     |████████████████████████▏       | 1.3 MB 4.2 MB/s eta 0:00:01\r\u001b[K     |████████████████████████▎       | 1.3 MB 4.2 MB/s eta 0:00:01\r\u001b[K     |████████████████████████▌       | 1.3 MB 4.2 MB/s eta 0:00:01\r\u001b[K     |████████████████████████▊       | 1.3 MB 4.2 MB/s eta 0:00:01\r\u001b[K     |█████████████████████████       | 1.3 MB 4.2 MB/s eta 0:00:01\r\u001b[K     |█████████████████████████       | 1.3 MB 4.2 MB/s eta 0:00:01\r\u001b[K     |█████████████████████████▎      | 1.4 MB 4.2 MB/s eta 0:00:01\r\u001b[K     |█████████████████████████▌      | 1.4 MB 4.2 MB/s eta 0:00:01\r\u001b[K     |█████████████████████████▊      | 1.4 MB 4.2 MB/s eta 0:00:01\r\u001b[K     |█████████████████████████▉      | 1.4 MB 4.2 MB/s eta 0:00:01\r\u001b[K     |██████████████████████████      | 1.4 MB 4.2 MB/s eta 0:00:01\r\u001b[K     |██████████████████████████▎     | 1.4 MB 4.2 MB/s eta 0:00:01\r\u001b[K     |██████████████████████████▍     | 1.4 MB 4.2 MB/s eta 0:00:01\r\u001b[K     |██████████████████████████▋     | 1.4 MB 4.2 MB/s eta 0:00:01\r\u001b[K     |██████████████████████████▉     | 1.4 MB 4.2 MB/s eta 0:00:01\r\u001b[K     |███████████████████████████     | 1.4 MB 4.2 MB/s eta 0:00:01\r\u001b[K     |███████████████████████████▏    | 1.5 MB 4.2 MB/s eta 0:00:01\r\u001b[K     |███████████████████████████▍    | 1.5 MB 4.2 MB/s eta 0:00:01\r\u001b[K     |███████████████████████████▋    | 1.5 MB 4.2 MB/s eta 0:00:01\r\u001b[K     |███████████████████████████▉    | 1.5 MB 4.2 MB/s eta 0:00:01\r\u001b[K     |████████████████████████████    | 1.5 MB 4.2 MB/s eta 0:00:01\r\u001b[K     |████████████████████████████▏   | 1.5 MB 4.2 MB/s eta 0:00:01\r\u001b[K     |████████████████████████████▍   | 1.5 MB 4.2 MB/s eta 0:00:01\r\u001b[K     |████████████████████████████▌   | 1.5 MB 4.2 MB/s eta 0:00:01\r\u001b[K     |████████████████████████████▊   | 1.5 MB 4.2 MB/s eta 0:00:01\r\u001b[K     |█████████████████████████████   | 1.5 MB 4.2 MB/s eta 0:00:01\r\u001b[K     |█████████████████████████████▏  | 1.6 MB 4.2 MB/s eta 0:00:01\r\u001b[K     |█████████████████████████████▎  | 1.6 MB 4.2 MB/s eta 0:00:01\r\u001b[K     |█████████████████████████████▌  | 1.6 MB 4.2 MB/s eta 0:00:01\r\u001b[K     |█████████████████████████████▊  | 1.6 MB 4.2 MB/s eta 0:00:01\r\u001b[K     |█████████████████████████████▉  | 1.6 MB 4.2 MB/s eta 0:00:01\r\u001b[K     |██████████████████████████████  | 1.6 MB 4.2 MB/s eta 0:00:01\r\u001b[K     |██████████████████████████████▎ | 1.6 MB 4.2 MB/s eta 0:00:01\r\u001b[K     |██████████████████████████████▌ | 1.6 MB 4.2 MB/s eta 0:00:01\r\u001b[K     |██████████████████████████████▋ | 1.6 MB 4.2 MB/s eta 0:00:01\r\u001b[K     |██████████████████████████████▉ | 1.6 MB 4.2 MB/s eta 0:00:01\r\u001b[K     |███████████████████████████████ | 1.7 MB 4.2 MB/s eta 0:00:01\r\u001b[K     |███████████████████████████████▎| 1.7 MB 4.2 MB/s eta 0:00:01\r\u001b[K     |███████████████████████████████▍| 1.7 MB 4.2 MB/s eta 0:00:01\r\u001b[K     |███████████████████████████████▋| 1.7 MB 4.2 MB/s eta 0:00:01\r\u001b[K     |███████████████████████████████▉| 1.7 MB 4.2 MB/s eta 0:00:01\r\u001b[K     |████████████████████████████████| 1.7 MB 4.2 MB/s eta 0:00:01\r\u001b[K     |████████████████████████████████| 1.7 MB 4.2 MB/s \n",
            "\u001b[?25hRequirement already satisfied: scikit-learn>=0.23.0 in /usr/local/lib/python3.7/dist-packages (from scikit-learn-extra) (1.0.2)\n",
            "Requirement already satisfied: numpy>=1.13.3 in /usr/local/lib/python3.7/dist-packages (from scikit-learn-extra) (1.21.5)\n",
            "Requirement already satisfied: scipy>=0.19.1 in /usr/local/lib/python3.7/dist-packages (from scikit-learn-extra) (1.4.1)\n",
            "Requirement already satisfied: joblib>=0.11 in /usr/local/lib/python3.7/dist-packages (from scikit-learn>=0.23.0->scikit-learn-extra) (1.1.0)\n",
            "Requirement already satisfied: threadpoolctl>=2.0.0 in /usr/local/lib/python3.7/dist-packages (from scikit-learn>=0.23.0->scikit-learn-extra) (3.1.0)\n",
            "Installing collected packages: scikit-learn-extra\n",
            "Successfully installed scikit-learn-extra-0.2.0\n"
          ]
        }
      ]
    },
    {
      "cell_type": "code",
      "source": [
        "from sklearn_extra.cluster import KMedoids"
      ],
      "metadata": {
        "id": "NtLTMrfmcfBL"
      },
      "execution_count": null,
      "outputs": []
    },
    {
      "cell_type": "code",
      "source": [
        "range_n_clusters = [2, 3, 4, 5, 6, 7, 8]\n",
        "silhouette_avg = []\n",
        "bestsilhoutte = 0"
      ],
      "metadata": {
        "id": "1urxEilFc-GI"
      },
      "execution_count": null,
      "outputs": []
    },
    {
      "cell_type": "code",
      "source": [
        "for num_clusters in range_n_clusters:\n",
        "\n",
        " # initialise KMedoids\n",
        " kmedoids = KMedoids(n_clusters=num_clusters, random_state=0,method='pam')\n",
        " #fit the clusters\n",
        " kmedoids.fit(data_clustering)\n",
        " clusters = kmedoids.labels_\n",
        " print(num_clusters)\n",
        "\n",
        " # silhouette score\n",
        " score = silhouette_score(data_clustering, clusters, metric='euclidean')\n",
        " print('Silhouetter Score: %.3f' % score)\n",
        " silhouette_avg.append(score)\n",
        "\n",
        " if score > bestsilhoutte:\n",
        "   bestclusters = clusters\n",
        "   bestsilhoutte = score"
      ],
      "metadata": {
        "colab": {
          "base_uri": "https://localhost:8080/"
        },
        "id": "Juf5k6Y7dmr-",
        "outputId": "c35164ba-1e30-4998-d049-65b1da00abc5"
      },
      "execution_count": null,
      "outputs": [
        {
          "output_type": "stream",
          "name": "stdout",
          "text": [
            "2\n",
            "Silhouetter Score: 0.998\n",
            "3\n",
            "Silhouetter Score: 0.996\n",
            "4\n",
            "Silhouetter Score: 0.993\n",
            "5\n",
            "Silhouetter Score: 0.994\n",
            "6\n",
            "Silhouetter Score: 0.994\n",
            "7\n",
            "Silhouetter Score: 0.994\n",
            "8\n",
            "Silhouetter Score: 0.994\n"
          ]
        }
      ]
    },
    {
      "cell_type": "code",
      "source": [
        "plt.plot(range_n_clusters,silhouette_avg,'bx-')\n",
        "plt.xlabel('Values of K')\n",
        "plt.ylabel('Silhouette score')\n",
        "plt.title('Silhouette analysis For Optimal k')\n",
        "plt.show()"
      ],
      "metadata": {
        "colab": {
          "base_uri": "https://localhost:8080/",
          "height": 309
        },
        "id": "8rOp-ipYd2PA",
        "outputId": "392c45f3-a89e-4d28-c8f2-103dc31e60eb"
      },
      "execution_count": null,
      "outputs": [
        {
          "output_type": "display_data",
          "data": {
            "text/plain": [
              "<Figure size 432x288 with 1 Axes>"
            ],
            "image/png": "[encoded data removed]"
          },
          "metadata": {
            "needs_background": "light"
          }
        }
      ]
    },
    {
      "cell_type": "code",
      "source": [
        "data_result_kmedoids = data_clustering.copy()"
      ],
      "metadata": {
        "id": "7KO4JJ9GeTlY"
      },
      "execution_count": null,
      "outputs": []
    },
    {
      "cell_type": "code",
      "source": [
        "data_result_kmedoids['cluster'] = bestclusters"
      ],
      "metadata": {
        "id": "S1uApAz6eY-d"
      },
      "execution_count": null,
      "outputs": []
    },
    {
      "cell_type": "code",
      "source": [
        "data_result_kmedoids"
      ],
      "metadata": {
        "colab": {
          "base_uri": "https://localhost:8080/",
          "height": 455
        },
        "id": "N1ySRXHYeaJe",
        "outputId": "c2b46141-d32a-4af7-f1e1-0d64954c0986"
      },
      "execution_count": null,
      "outputs": [
        {
          "output_type": "execute_result",
          "data": {
            "text/plain": [
              "               totalvisits  pageviews  totalTransactionRevenue  cluster\n",
              "fullVisitorId                                                          \n",
              "4.541792e+13             1          2                      0.0        1\n",
              "2.514160e+14             1          2                      0.0        1\n",
              "3.577675e+14             1          1                      0.0        1\n",
              "5.146827e+14             1          1                      0.0        1\n",
              "5.431751e+14             1          1                      0.0        1\n",
              "...                    ...        ...                      ...      ...\n",
              "9.991289e+18             1          7                      0.0        1\n",
              "9.993558e+18             1          1                      0.0        1\n",
              "9.993760e+18             1          1                      0.0        1\n",
              "9.998622e+18             1          1                      0.0        1\n",
              "9.999978e+18             1          1                      0.0        1\n",
              "\n",
              "[10991 rows x 4 columns]"
            ],
            "text/html": [
              "\n",
              "  <div id=\"df-25e47f21-a7a4-445a-b32d-feb9c28a5c30\">\n",
              "    <div class=\"colab-df-container\">\n",
              "      <div>\n",
              "<style scoped>\n",
              "    .dataframe tbody tr th:only-of-type {\n",
              "        vertical-align: middle;\n",
              "    }\n",
              "\n",
              "    .dataframe tbody tr th {\n",
              "        vertical-align: top;\n",
              "    }\n",
              "\n",
              "    .dataframe thead th {\n",
              "        text-align: right;\n",
              "    }\n",
              "</style>\n",
              "<table border=\"1\" class=\"dataframe\">\n",
              "  <thead>\n",
              "    <tr style=\"text-align: right;\">\n",
              "      <th></th>\n",
              "      <th>totalvisits</th>\n",
              "      <th>pageviews</th>\n",
              "      <th>totalTransactionRevenue</th>\n",
              "      <th>cluster</th>\n",
              "    </tr>\n",
              "    <tr>\n",
              "      <th>fullVisitorId</th>\n",
              "      <th></th>\n",
              "      <th></th>\n",
              "      <th></th>\n",
              "      <th></th>\n",
              "    </tr>\n",
              "  </thead>\n",
              "  <tbody>\n",
              "    <tr>\n",
              "      <th>4.541792e+13</th>\n",
              "      <td>1</td>\n",
              "      <td>2</td>\n",
              "      <td>0.0</td>\n",
              "      <td>1</td>\n",
              "    </tr>\n",
              "    <tr>\n",
              "      <th>2.514160e+14</th>\n",
              "      <td>1</td>\n",
              "      <td>2</td>\n",
              "      <td>0.0</td>\n",
              "      <td>1</td>\n",
              "    </tr>\n",
              "    <tr>\n",
              "      <th>3.577675e+14</th>\n",
              "      <td>1</td>\n",
              "      <td>1</td>\n",
              "      <td>0.0</td>\n",
              "      <td>1</td>\n",
              "    </tr>\n",
              "    <tr>\n",
              "      <th>5.146827e+14</th>\n",
              "      <td>1</td>\n",
              "      <td>1</td>\n",
              "      <td>0.0</td>\n",
              "      <td>1</td>\n",
              "    </tr>\n",
              "    <tr>\n",
              "      <th>5.431751e+14</th>\n",
              "      <td>1</td>\n",
              "      <td>1</td>\n",
              "      <td>0.0</td>\n",
              "      <td>1</td>\n",
              "    </tr>\n",
              "    <tr>\n",
              "      <th>...</th>\n",
              "      <td>...</td>\n",
              "      <td>...</td>\n",
              "      <td>...</td>\n",
              "      <td>...</td>\n",
              "    </tr>\n",
              "    <tr>\n",
              "      <th>9.991289e+18</th>\n",
              "      <td>1</td>\n",
              "      <td>7</td>\n",
              "      <td>0.0</td>\n",
              "      <td>1</td>\n",
              "    </tr>\n",
              "    <tr>\n",
              "      <th>9.993558e+18</th>\n",
              "      <td>1</td>\n",
              "      <td>1</td>\n",
              "      <td>0.0</td>\n",
              "      <td>1</td>\n",
              "    </tr>\n",
              "    <tr>\n",
              "      <th>9.993760e+18</th>\n",
              "      <td>1</td>\n",
              "      <td>1</td>\n",
              "      <td>0.0</td>\n",
              "      <td>1</td>\n",
              "    </tr>\n",
              "    <tr>\n",
              "      <th>9.998622e+18</th>\n",
              "      <td>1</td>\n",
              "      <td>1</td>\n",
              "      <td>0.0</td>\n",
              "      <td>1</td>\n",
              "    </tr>\n",
              "    <tr>\n",
              "      <th>9.999978e+18</th>\n",
              "      <td>1</td>\n",
              "      <td>1</td>\n",
              "      <td>0.0</td>\n",
              "      <td>1</td>\n",
              "    </tr>\n",
              "  </tbody>\n",
              "</table>\n",
              "<p>10991 rows × 4 columns</p>\n",
              "</div>\n",
              "      <button class=\"colab-df-convert\" onclick=\"convertToInteractive('df-25e47f21-a7a4-445a-b32d-feb9c28a5c30')\"\n",
              "              title=\"Convert this dataframe to an interactive table.\"\n",
              "              style=\"display:none;\">\n",
              "        \n",
              "  <svg xmlns=\"http://www.w3.org/2000/svg\" height=\"24px\"viewBox=\"0 0 24 24\"\n",
              "       width=\"24px\">\n",
              "    <path d=\"M0 0h24v24H0V0z\" fill=\"none\"/>\n",
              "    <path d=\"M18.56 5.44l.94 2.06.94-2.06 2.06-.94-2.06-.94-.94-2.06-.94 2.06-2.06.94zm-11 1L8.5 8.5l.94-2.06 2.06-.94-2.06-.94L8.5 2.5l-.94 2.06-2.06.94zm10 10l.94 2.06.94-2.06 2.06-.94-2.06-.94-.94-2.06-.94 2.06-2.06.94z\"/><path d=\"M17.41 7.96l-1.37-1.37c-.4-.4-.92-.59-1.43-.59-.52 0-1.04.2-1.43.59L10.3 9.45l-7.72 7.72c-.78.78-.78 2.05 0 2.83L4 21.41c.39.39.9.59 1.41.59.51 0 1.02-.2 1.41-.59l7.78-7.78 2.81-2.81c.8-.78.8-2.07 0-2.86zM5.41 20L4 18.59l7.72-7.72 1.47 1.35L5.41 20z\"/>\n",
              "  </svg>\n",
              "      </button>\n",
              "      \n",
              "  <style>\n",
              "    .colab-df-container {\n",
              "      display:flex;\n",
              "      flex-wrap:wrap;\n",
              "      gap: 12px;\n",
              "    }\n",
              "\n",
              "    .colab-df-convert {\n",
              "      background-color: #E8F0FE;\n",
              "      border: none;\n",
              "      border-radius: 50%;\n",
              "      cursor: pointer;\n",
              "      display: none;\n",
              "      fill: #1967D2;\n",
              "      height: 32px;\n",
              "      padding: 0 0 0 0;\n",
              "      width: 32px;\n",
              "    }\n",
              "\n",
              "    .colab-df-convert:hover {\n",
              "      background-color: #E2EBFA;\n",
              "      box-shadow: 0px 1px 2px rgba(60, 64, 67, 0.3), 0px 1px 3px 1px rgba(60, 64, 67, 0.15);\n",
              "      fill: #174EA6;\n",
              "    }\n",
              "\n",
              "    [theme=dark] .colab-df-convert {\n",
              "      background-color: #3B4455;\n",
              "      fill: #D2E3FC;\n",
              "    }\n",
              "\n",
              "    [theme=dark] .colab-df-convert:hover {\n",
              "      background-color: #434B5C;\n",
              "      box-shadow: 0px 1px 3px 1px rgba(0, 0, 0, 0.15);\n",
              "      filter: drop-shadow(0px 1px 2px rgba(0, 0, 0, 0.3));\n",
              "      fill: #FFFFFF;\n",
              "    }\n",
              "  </style>\n",
              "\n",
              "      <script>\n",
              "        const buttonEl =\n",
              "          document.querySelector('#df-25e47f21-a7a4-445a-b32d-feb9c28a5c30 button.colab-df-convert');\n",
              "        buttonEl.style.display =\n",
              "          google.colab.kernel.accessAllowed ? 'block' : 'none';\n",
              "\n",
              "        async function convertToInteractive(key) {\n",
              "          const element = document.querySelector('#df-25e47f21-a7a4-445a-b32d-feb9c28a5c30');\n",
              "          const dataTable =\n",
              "            await google.colab.kernel.invokeFunction('convertToInteractive',\n",
              "                                                     [key], {});\n",
              "          if (!dataTable) return;\n",
              "\n",
              "          const docLinkHtml = 'Like what you see? Visit the ' +\n",
              "            '<a target=\"_blank\" href=https://colab.research.google.com/notebooks/data_table.ipynb>data table notebook</a>'\n",
              "            + ' to learn more about interactive tables.';\n",
              "          element.innerHTML = '';\n",
              "          dataTable['output_type'] = 'display_data';\n",
              "          await google.colab.output.renderOutput(dataTable, element);\n",
              "          const docLink = document.createElement('div');\n",
              "          docLink.innerHTML = docLinkHtml;\n",
              "          element.appendChild(docLink);\n",
              "        }\n",
              "      </script>\n",
              "    </div>\n",
              "  </div>\n",
              "  "
            ]
          },
          "metadata": {},
          "execution_count": 42
        }
      ]
    },
    {
      "cell_type": "code",
      "source": [
        "data_result_kmedoids['cluster'].value_counts()"
      ],
      "metadata": {
        "colab": {
          "base_uri": "https://localhost:8080/"
        },
        "id": "m4Aq1kWEefG-",
        "outputId": "eeae3dae-ab86-44ad-bb3f-39d610c78e99"
      },
      "execution_count": null,
      "outputs": [
        {
          "output_type": "execute_result",
          "data": {
            "text/plain": [
              "1    10980\n",
              "0       11\n",
              "Name: cluster, dtype: int64"
            ]
          },
          "metadata": {},
          "execution_count": 43
        }
      ]
    },
    {
      "cell_type": "code",
      "source": [
        "plt.figure(figsize=(8,5))\n",
        "sns.boxplot(x='cluster',y='totalTransactionRevenue',data=data_result_kmedoids, palette='rainbow')\n",
        "plt.title(\"Total Revenue each Cluster\")"
      ],
      "metadata": {
        "colab": {
          "base_uri": "https://localhost:8080/",
          "height": 381
        },
        "id": "RM9CcaJwekQm",
        "outputId": "630051e4-bcae-464f-cd42-a22bff23d84e"
      },
      "execution_count": null,
      "outputs": [
        {
          "output_type": "execute_result",
          "data": {
            "text/plain": [
              "Text(0.5, 1.0, 'Total Revenue each Cluster')"
            ]
          },
          "metadata": {},
          "execution_count": 44
        },
        {
          "output_type": "display_data",
          "data": {
            "text/plain": [
              "<Figure size 576x360 with 1 Axes>"
            ],
            "image/png": "[encoded data removed]"
          },
          "metadata": {
            "needs_background": "light"
          }
        }
      ]
    },
    {
      "cell_type": "code",
      "source": [
        "plt.figure(figsize=(8,5))\n",
        "sns.boxplot(x='cluster',y='totalvisits',data=data_result_kmedoids, palette='rainbow')\n",
        "plt.title(\"Total Visits each Cluster\")"
      ],
      "metadata": {
        "colab": {
          "base_uri": "https://localhost:8080/",
          "height": 381
        },
        "id": "R09tkocFenUn",
        "outputId": "9993fe0c-8aba-46a1-e443-1fd3685fbffb"
      },
      "execution_count": null,
      "outputs": [
        {
          "output_type": "execute_result",
          "data": {
            "text/plain": [
              "Text(0.5, 1.0, 'Total Visits each Cluster')"
            ]
          },
          "metadata": {},
          "execution_count": 45
        },
        {
          "output_type": "display_data",
          "data": {
            "text/plain": [
              "<Figure size 576x360 with 1 Axes>"
            ],
            "image/png": "[encoded data removed]"
          },
          "metadata": {
            "needs_background": "light"
          }
        }
      ]
    },
    {
      "cell_type": "code",
      "source": [
        "plt.figure(figsize=(8,5))\n",
        "sns.boxplot(x='cluster',y='pageviews',data=data_result_kmedoids, palette='rainbow')\n",
        "plt.title(\"Total Page Views each Cluster\")"
      ],
      "metadata": {
        "colab": {
          "base_uri": "https://localhost:8080/",
          "height": 381
        },
        "id": "FJfemiSKe7BZ",
        "outputId": "94c01398-725b-4aa5-f174-06d11d4f8dce"
      },
      "execution_count": null,
      "outputs": [
        {
          "output_type": "execute_result",
          "data": {
            "text/plain": [
              "Text(0.5, 1.0, 'Total Page Views each Cluster')"
            ]
          },
          "metadata": {},
          "execution_count": 46
        },
        {
          "output_type": "display_data",
          "data": {
            "text/plain": [
              "<Figure size 576x360 with 1 Axes>"
            ],
            "image/png": "[encoded data removed]"
          },
          "metadata": {
            "needs_background": "light"
          }
        }
      ]
    },
    {
      "cell_type": "markdown",
      "source": [
        "### Hierarchical Clustering"
      ],
      "metadata": {
        "id": "-gvxDqKRgrhd"
      }
    },
    {
      "cell_type": "code",
      "source": [
        "from sklearn.cluster import AgglomerativeClustering\n",
        "import scipy.cluster.hierarchy as sch"
      ],
      "metadata": {
        "id": "19-uHAjif2xF"
      },
      "execution_count": null,
      "outputs": []
    },
    {
      "cell_type": "code",
      "source": [
        "data_hierarchical = data_clustering.sort_values('totalTransactionRevenue',ascending=False).head(10)"
      ],
      "metadata": {
        "id": "wQOH-CdCg5z6"
      },
      "execution_count": null,
      "outputs": []
    },
    {
      "cell_type": "code",
      "source": [
        "dendrogram = sch.dendrogram(sch.linkage(data_hierarchical, method='ward'))"
      ],
      "metadata": {
        "colab": {
          "base_uri": "https://localhost:8080/",
          "height": 285
        },
        "id": "Y6oQhEkMguRt",
        "outputId": "6669cc4f-c907-4e02-bdee-e12a5b0d2596"
      },
      "execution_count": null,
      "outputs": [
        {
          "output_type": "display_data",
          "data": {
            "text/plain": [
              "<Figure size 432x288 with 1 Axes>"
            ],
            "image/png": "[encoded data removed]"
          },
          "metadata": {
            "needs_background": "light"
          }
        }
      ]
    },
    {
      "cell_type": "code",
      "source": [
        "range_n_clusters = [2, 3, 4, 5, 6, 7, 8]\n",
        "silhouette_avg = []\n",
        "bestsilhoutte = 0"
      ],
      "metadata": {
        "id": "m-9txufmiZ4V"
      },
      "execution_count": null,
      "outputs": []
    },
    {
      "cell_type": "code",
      "source": [
        "for num_clusters in range_n_clusters:\n",
        "\n",
        " # initialise KMedoids\n",
        " hierarchical = AgglomerativeClustering(n_clusters=num_clusters, affinity='euclidean', linkage='ward')\n",
        " #fit the clusters\n",
        " hierarchical.fit(data_clustering)\n",
        " clusters = hierarchical.labels_\n",
        " print(num_clusters)\n",
        "\n",
        " # silhouette score\n",
        " score = silhouette_score(data_clustering, clusters, metric='euclidean')\n",
        " print('Silhouetter Score: %.3f' % score)\n",
        " silhouette_avg.append(score)\n",
        "\n",
        " if score > bestsilhoutte:\n",
        "   bestclusters = clusters\n",
        "   bestsilhoutte = score"
      ],
      "metadata": {
        "colab": {
          "base_uri": "https://localhost:8080/"
        },
        "id": "lTjBWlIPiOon",
        "outputId": "e8041f29-0812-4ad2-e5a1-75f133a62a6f"
      },
      "execution_count": null,
      "outputs": [
        {
          "output_type": "stream",
          "name": "stdout",
          "text": [
            "2\n",
            "Silhouetter Score: 0.999\n",
            "3\n",
            "Silhouetter Score: 0.997\n",
            "4\n",
            "Silhouetter Score: 0.996\n",
            "5\n",
            "Silhouetter Score: 0.994\n",
            "6\n",
            "Silhouetter Score: 0.994\n",
            "7\n",
            "Silhouetter Score: 0.994\n",
            "8\n",
            "Silhouetter Score: 0.994\n"
          ]
        }
      ]
    },
    {
      "cell_type": "code",
      "source": [
        "plt.plot(range_n_clusters,silhouette_avg,'bx-')\n",
        "plt.xlabel('Values of K')\n",
        "plt.ylabel('Silhouette score')\n",
        "plt.title('Silhouette analysis For Optimal k')\n",
        "plt.show()"
      ],
      "metadata": {
        "colab": {
          "base_uri": "https://localhost:8080/",
          "height": 309
        },
        "id": "7xdzUTwSit1y",
        "outputId": "40a3684a-208c-4025-d908-c1e5b3b0f690"
      },
      "execution_count": null,
      "outputs": [
        {
          "output_type": "display_data",
          "data": {
            "text/plain": [
              "<Figure size 432x288 with 1 Axes>"
            ],
            "image/png": "[encoded data removed]"
          },
          "metadata": {
            "needs_background": "light"
          }
        }
      ]
    },
    {
      "cell_type": "code",
      "source": [
        "data_result_hierarchical = data_clustering.copy()"
      ],
      "metadata": {
        "id": "KjAo_7nAimPd"
      },
      "execution_count": null,
      "outputs": []
    },
    {
      "cell_type": "code",
      "source": [
        "data_result_hierarchical['cluster'] = bestclusters"
      ],
      "metadata": {
        "id": "dyuikGGuix4e"
      },
      "execution_count": null,
      "outputs": []
    },
    {
      "cell_type": "code",
      "source": [
        "data_result_hierarchical['cluster'].value_counts()"
      ],
      "metadata": {
        "colab": {
          "base_uri": "https://localhost:8080/"
        },
        "id": "yot2UTzji0Yu",
        "outputId": "f4721db6-0135-4a03-a01f-81809ac94e9b"
      },
      "execution_count": null,
      "outputs": [
        {
          "output_type": "execute_result",
          "data": {
            "text/plain": [
              "0    10988\n",
              "1        3\n",
              "Name: cluster, dtype: int64"
            ]
          },
          "metadata": {},
          "execution_count": 55
        }
      ]
    },
    {
      "cell_type": "code",
      "source": [
        "plt.figure(figsize=(8,5))\n",
        "sns.boxplot(x='cluster',y='totalTransactionRevenue',data=data_result_hierarchical, palette='rainbow')\n",
        "plt.title(\"Total Revenue each Cluster\")"
      ],
      "metadata": {
        "colab": {
          "base_uri": "https://localhost:8080/",
          "height": 381
        },
        "id": "bG6TxXrpi6xw",
        "outputId": "5614851f-ddae-410b-89d7-c2c118c1e7f9"
      },
      "execution_count": null,
      "outputs": [
        {
          "output_type": "execute_result",
          "data": {
            "text/plain": [
              "Text(0.5, 1.0, 'Total Revenue each Cluster')"
            ]
          },
          "metadata": {},
          "execution_count": 56
        },
        {
          "output_type": "display_data",
          "data": {
            "text/plain": [
              "<Figure size 576x360 with 1 Axes>"
            ],
            "image/png": "[encoded data removed]"
          },
          "metadata": {
            "needs_background": "light"
          }
        }
      ]
    },
    {
      "cell_type": "code",
      "source": [
        "plt.figure(figsize=(8,5))\n",
        "sns.boxplot(x='cluster',y='totalvisits',data=data_result_hierarchical, palette='rainbow')\n",
        "plt.title(\"Total Visits each Cluster\")"
      ],
      "metadata": {
        "colab": {
          "base_uri": "https://localhost:8080/",
          "height": 380
        },
        "id": "RVrYmLXmi_w6",
        "outputId": "0ef90bad-314a-451c-8ec1-0b699059d632"
      },
      "execution_count": null,
      "outputs": [
        {
          "output_type": "execute_result",
          "data": {
            "text/plain": [
              "Text(0.5, 1.0, 'Total Visits each Cluster')"
            ]
          },
          "metadata": {},
          "execution_count": 100
        },
        {
          "output_type": "display_data",
          "data": {
            "text/plain": [
              "<Figure size 576x360 with 1 Axes>"
            ],
            "image/png": "[encoded data removed]"
          },
          "metadata": {
            "needs_background": "light"
          }
        }
      ]
    },
    {
      "cell_type": "code",
      "source": [
        "plt.figure(figsize=(8,5))\n",
        "sns.boxplot(x='cluster',y='pageviews',data=data_result_hierarchical, palette='rainbow')\n",
        "plt.title(\"Total Pageviews each Cluster\")"
      ],
      "metadata": {
        "colab": {
          "base_uri": "https://localhost:8080/",
          "height": 381
        },
        "id": "JCjpN2PQjD8f",
        "outputId": "677301e6-f2ae-4f3e-cc2d-9ba934334946"
      },
      "execution_count": null,
      "outputs": [
        {
          "output_type": "execute_result",
          "data": {
            "text/plain": [
              "Text(0.5, 1.0, 'Total Pageviews each Cluster')"
            ]
          },
          "metadata": {},
          "execution_count": 57
        },
        {
          "output_type": "display_data",
          "data": {
            "text/plain": [
              "<Figure size 576x360 with 1 Axes>"
            ],
            "image/png": "[encoded data removed]"
          },
          "metadata": {
            "needs_background": "light"
          }
        }
      ]
    },
    {
      "cell_type": "code",
      "source": [],
      "metadata": {
        "id": "3pVCkO8IjIQs"
      },
      "execution_count": null,
      "outputs": []
    }
  ]
}